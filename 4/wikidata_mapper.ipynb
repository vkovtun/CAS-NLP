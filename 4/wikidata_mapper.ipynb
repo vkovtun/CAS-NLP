{
 "cells": [
  {
   "cell_type": "markdown",
   "id": "bfbb7512-ed02-47c8-8a64-c624d9566966",
   "metadata": {},
   "source": [
    "# Imports"
   ]
  },
  {
   "cell_type": "code",
   "execution_count": null,
   "id": "3d09f7a1-1964-4457-bc84-1358d7143a76",
   "metadata": {},
   "outputs": [],
   "source": [
    "import csv\n",
    "from functools import reduce\n",
    "from datasets import load_dataset"
   ]
  },
  {
   "cell_type": "markdown",
   "id": "335dc3dc-7d47-4884-b734-ecfedfb982b2",
   "metadata": {},
   "source": [
    "# Functions"
   ]
  },
  {
   "cell_type": "code",
   "execution_count": null,
   "id": "2ef3d1b6-a50f-488c-b55e-fc3d3c9945fb",
   "metadata": {},
   "outputs": [],
   "source": [
    "def collect_mappings_from_row(row):\n",
    "    return {e['qid']: e['tag'] for e in row['entities']}\n",
    "\n",
    "    \n",
    "def collect_mappings(split):\n",
    "    iterable = map(collect_mappings_from_row, split)\n",
    "    # print(\"Iterables:\")\n",
    "    # print(next(iterable))\n",
    "    # print(next(iterable))\n",
    "    return reduce(lambda d1, d2: {**d1, **d2}, iterable)"
   ]
  },
  {
   "cell_type": "markdown",
   "id": "0b1aa34a-3252-4861-9250-2839431aac3d",
   "metadata": {},
   "source": [
    "# Processing Dataset"
   ]
  },
  {
   "cell_type": "code",
   "execution_count": null,
   "id": "fc9e055b-dfc8-47f9-926c-5086f0d56ff7",
   "metadata": {},
   "outputs": [],
   "source": [
    "train_ds = load_dataset('cyanic-selkie/aida-conll-yago-wikidata', split = 'train')\n",
    "test_ds = load_dataset('cyanic-selkie/aida-conll-yago-wikidata', split = 'test')\n",
    "validation_ds = load_dataset('cyanic-selkie/aida-conll-yago-wikidata', split = 'validation')\n",
    "\n",
    "mappings = collect_mappings(train_ds) | collect_mappings(test_ds) | collect_mappings(validation_ds)\n",
    "\n",
    "with open('wikidata_tags.csv', 'w', newline='') as csvfile:\n",
    "    csv_writer = csv.writer(csvfile, delimiter=',', quoting=csv.QUOTE_MINIMAL)\n",
    "    for qid, tag in mappings.items():\n",
    "        csv_writer.writerow([qid, tag])"
   ]
  },
  {
   "cell_type": "code",
   "execution_count": null,
   "id": "02aa8bbd-79b9-4953-8fdd-5c5a51b6de18",
   "metadata": {},
   "outputs": [],
   "source": []
  }
 ],
 "metadata": {
  "kernelspec": {
   "display_name": "Python 3 (ipykernel)",
   "language": "python",
   "name": "python3"
  },
  "language_info": {
   "codemirror_mode": {
    "name": "ipython",
    "version": 3
   },
   "file_extension": ".py",
   "mimetype": "text/x-python",
   "name": "python",
   "nbconvert_exporter": "python",
   "pygments_lexer": "ipython3",
   "version": "3.12.3"
  }
 },
 "nbformat": 4,
 "nbformat_minor": 5
}
