{
 "cells": [
  {
   "cell_type": "markdown",
   "id": "0f5f4e78-edbf-495e-910d-9d97d764ef12",
   "metadata": {},
   "source": [
    "# Problem and Dataset"
   ]
  },
  {
   "cell_type": "markdown",
   "id": "53652251-8071-49a3-94bf-18ab003b21f3",
   "metadata": {},
   "source": [
    "## NER with Transformers and Other Possible Approaches\n",
    "This project is an attempt to create a multi-lingual named entity recognition (NER) model from an untrained spacy model for non domain specific texts. The languages of choise are English (en), Czech (cs) and Ukrainian (uk).\n",
    "\n",
    "Performing named entity recognition with transformers has the main advantage that it takes into account contextual information about a token. For example, bank can be classified as an organisation (financial institution) or a location (river bank) depending on the context. Ruled based approaches (like pattern matching) might perform better in certain cases (like dates and number detection) but in general are unreliable and not scalable. Statistical approaches, even though more scalable, require more initial work and therefore do not scale as well as transformer approaches. Other neural network approaches (RNN or CNN) do not have as good contextual understanding as transformers.\n",
    "\n",
    "One of the main disadvantages of transformers, as other deep learning approaches, is that they require a lot of computational resources and time to be trained to a sufficient level of accuracy.\n",
    "\n",
    "## Categories\n",
    "We also use the following categories.\n",
    "- **LOC** - Countries, cities, states, mountain ranges, bodies of water.\n",
    "- **ORG** - Companies, agencies, institutions, etc.\n",
    "- **PER** - People, including fictional.\n",
    "- **MISC** - Other categories.\n",
    "\n",
    "## Dataset\n",
    "Our dataset of choice is **cyanic-selkie/wikianc** from Hugging Face. It is an automatically generated dataset from Wikipedia (all languages) and Wikidata dumps (August, 2023). For each article it contains text as well as the information about the tags in the article. For example\n",
    "\n",
    "```\n",
    "Charles Augustus Crow (March 31, 1873 – March 20, 1938) was a U.S. Representative from Missouri.\n",
    "\n",
    "[{\"start\": 62, \"end\": 81, \"qid\": 11701, \"pageid\": 19468510, \"title\": \"United_States_House_of_Representatives\" }, { \"start\": 87, \"end\": 95, \"qid\": 1581, \"pageid\": 19571, \"title\": \"Missouri\"}]\n",
    "```\n",
    "\n",
    "We can use this information to extract the Wikidata's QID for each tag.\n",
    "\n",
    "To be able to classify the tags, a separate Python program (wikidata-requester.py) was used to run a SparQL query against query.wikidata.org. The following Wikidata's QIDs were used for our categories:\n",
    "\n",
    "- **Q124711484 -> LOC** - spacial region.\n",
    "- **Q43229 -> ORG** - organization.\n",
    "- **Q215627 -> PER** - person (non fictitional).\n",
    "- **Q97498056 -> PER** - fictitional person.\n",
    "- **MISC** - Everything else.\n",
    "\n",
    "This is an example of such SparQL query.\n",
    "\n",
    "```\n",
    "PREFIX wd: <http://www.wikidata.org/entity/>\n",
    "PREFIX wdt: <http://www.wikidata.org/prop/direct/>\n",
    "\n",
    "SELECT ?item\n",
    "WHERE {\n",
    "    ?item wdt:P31/wdt:P279* wd:Q124711484\n",
    "}\n",
    "OFFSET 6000000\n",
    "LIMIT  2000000\n",
    "```"
   ]
  },
  {
   "cell_type": "markdown",
   "id": "7cb9a658-1128-4029-9d82-e2e25b9c2e9f",
   "metadata": {},
   "source": [
    "# Training"
   ]
  },
  {
   "cell_type": "markdown",
   "id": "ddacc510-1b57-4bac-822d-3a8ed092cdfa",
   "metadata": {},
   "source": [
    "## Imports"
   ]
  },
  {
   "cell_type": "code",
   "execution_count": null,
   "id": "2e2a7337-bf37-446f-b290-ce7d72cd9985",
   "metadata": {
    "scrolled": true
   },
   "outputs": [],
   "source": [
    "!pip install numpy==1.26.4\n",
    "!python -m cupyx.tools.install_library --cuda 12.x --library cutensor\n",
    "!pip install cupy-cuda12x\n",
    "!pip install 'spacy[transformers]'\n",
    "!python -m spacy download xx_ent_wiki_sm"
   ]
  },
  {
   "cell_type": "code",
   "execution_count": null,
   "id": "cea07549-1b31-4cac-bbb3-5d262289801d",
   "metadata": {},
   "outputs": [],
   "source": [
    "import csv\n",
    "import os\n",
    "\n",
    "import datasets\n",
    "import spacy\n",
    "from datasets import DatasetDict\n",
    "from spacy.tokens import DocBin\n",
    "from tqdm import tqdm"
   ]
  },
  {
   "cell_type": "markdown",
   "id": "381a0ed4-cd40-4427-b04e-dd1b8ed9d941",
   "metadata": {},
   "source": [
    "## Helper Functions"
   ]
  },
  {
   "cell_type": "markdown",
   "id": "babf9e5a-5ade-4b39-9f94-a4278c00893c",
   "metadata": {},
   "source": [
    "Loads a dataset and splits it to train, test and validation parts."
   ]
  },
  {
   "cell_type": "code",
   "execution_count": null,
   "id": "f242dd0f-4434-48b0-b579-5e254db42cd3",
   "metadata": {},
   "outputs": [],
   "source": [
    "def load_and_split_ds(path, name, test_size=0.2):\n",
    "    ds = datasets.load_dataset(path, name)\n",
    "    ds_split_1 = ds['train'].train_test_split(test_size=test_size)\n",
    "\n",
    "    if 'validation' in ds:\n",
    "        return DatasetDict({\n",
    "            'train': ds_split_1['train'],\n",
    "            'test': ds_split_1['test'],\n",
    "            'validation': ds['validation']})\n",
    "    else:\n",
    "        ds_split_2 = ds_split_1['test'].train_test_split(test_size=0.5)\n",
    "        return DatasetDict({\n",
    "            'train': ds_split_1['train'],\n",
    "            'test': ds_split_2['test'],\n",
    "            'validation': ds_split_2['train']})"
   ]
  },
  {
   "cell_type": "markdown",
   "id": "1038f924-0ce7-4b78-91b2-72abc0245c57",
   "metadata": {},
   "source": [
    "Recongnises entities and visualizes the result using the specified model."
   ]
  },
  {
   "cell_type": "code",
   "execution_count": null,
   "id": "bfa33dde-91d9-42b2-8e0e-d345e9d19887",
   "metadata": {},
   "outputs": [],
   "source": [
    "def visualize_entities(text, model):\n",
    "    displacy.render(model(text), style='ent', jupyter=True, options={'colors': {'LOC': '#00D000', 'ORG': '#6060F0', 'PER': '#E09090', 'MISC': '#999999'}})"
   ]
  },
  {
   "cell_type": "markdown",
   "id": "54ea9661-169e-456d-b1c1-aed9f9d10675",
   "metadata": {},
   "source": [
    "Converts a list of tokens into a formatted sentence and extracts entity positions. Handles spacing before punctuation marks correctly.\n",
    "\n",
    "    Args:\n",
    "        tokens (List[str]): The list of tokens to be converted.\n",
    "        tags (List[str]): The corresponding list of tags.\n",
    "\n",
    "    Returns:\n",
    "        Tuple[str, List[Dict[str, int | str]]]: The formatted sentence and entity list."
   ]
  },
  {
   "cell_type": "code",
   "execution_count": null,
   "id": "4287b7a5-7ead-41af-b96c-3b6c3e75a99f",
   "metadata": {},
   "outputs": [],
   "source": [
    "def tokens_to_text_with_tags(tokens, tags):\n",
    "    sentence = \"\"\n",
    "    entities = []\n",
    "    current_pos = 0\n",
    "    current_entity = None\n",
    "\n",
    "    for token, tag in zip(tokens, tags):\n",
    "        if token in {',', '.', '!', '?', ';', ':', '\"', \"'s\"}:\n",
    "            sentence += token  # Attach punctuation directly\n",
    "        else:\n",
    "            if sentence and not sentence.endswith(' '):\n",
    "                sentence += ' '\n",
    "                current_pos += 1\n",
    "            start_pos = current_pos\n",
    "            sentence += token\n",
    "            end_pos = current_pos + len(token)\n",
    "            current_pos = end_pos\n",
    "\n",
    "            if tag.startswith('B-'):\n",
    "                if current_entity:\n",
    "                    entities.append(current_entity)\n",
    "                current_entity = {'start': start_pos, 'end': end_pos, 'label': tag[2:]}\n",
    "            elif tag.startswith('I-') and current_entity:\n",
    "                current_entity['end'] = end_pos\n",
    "            elif tag != 'O':\n",
    "                if current_entity:\n",
    "                    entities.append(current_entity)\n",
    "                    current_entity = None\n",
    "                entities.append({'start': start_pos, 'end': end_pos, 'label': tag})\n",
    "            else:\n",
    "                if current_entity:\n",
    "                    entities.append(current_entity)\n",
    "                    current_entity = None\n",
    "\n",
    "    if current_entity:\n",
    "        entities.append(current_entity)\n",
    "\n",
    "    return sentence, entities"
   ]
  },
  {
   "cell_type": "markdown",
   "id": "744c8e37-2adb-4823-8903-ee881c1a9787",
   "metadata": {},
   "source": [
    "Gets a set of lines from a path.\n",
    "\n",
    "    :param file_path: The file to read from.\n",
    "    :return: A set of lines from the file."
   ]
  },
  {
   "cell_type": "code",
   "execution_count": null,
   "id": "ca7d84b3-3dee-4518-8acf-9009c5faebd5",
   "metadata": {},
   "outputs": [],
   "source": [
    "def get_lines_set(file_path):\n",
    "    lines_set = set()\n",
    "    with open(file_path, 'r') as file:\n",
    "        for line in file:\n",
    "            # Remove leading/trailing spaces and check if the line is not empty\n",
    "            line = line.strip()\n",
    "            if line:\n",
    "                lines_set.add(line)\n",
    "    return lines_set\n",
    "\n",
    "PER_WIKIDATA_ENTITIES = get_lines_set('PER-ND.txt') | get_lines_set('PER-FI.txt')\n",
    "LOC_WIKIDATA_ENTITIES = get_lines_set('LOC-ND.txt')\n",
    "ORG_WIKIDATA_ENTITIES = get_lines_set('ORG-ND.txt')"
   ]
  },
  {
   "cell_type": "markdown",
   "id": "ce518a25-67b2-4767-a2d2-2ffa924e71f5",
   "metadata": {},
   "source": [
    "Returns the entity by WikiData QID.\n",
    "\n",
    "    :return: Entity corresponding to the QID."
   ]
  },
  {
   "cell_type": "code",
   "execution_count": null,
   "id": "2881ce88-b7a2-4f13-bc62-3d74433f8f8f",
   "metadata": {},
   "outputs": [],
   "source": [
    "def get_entity_by_qid(qid):\n",
    "    if not qid:\n",
    "        return 'MISC'\n",
    "    elif qid in LOC_WIKIDATA_ENTITIES:\n",
    "        return 'LOC'\n",
    "    elif qid in PER_WIKIDATA_ENTITIES:\n",
    "        return 'PER'\n",
    "    elif qid in ORG_WIKIDATA_ENTITIES:\n",
    "        return 'ORG'\n",
    "    else:\n",
    "        return 'MISC'"
   ]
  },
  {
   "cell_type": "markdown",
   "id": "9daaf66f-0943-4b08-b966-40081b92a425",
   "metadata": {},
   "source": [
    "Converters to the format for named entity regognition."
   ]
  },
  {
   "cell_type": "code",
   "execution_count": null,
   "id": "09169e86-5ad1-4fd0-83a0-dc8485f788fd",
   "metadata": {},
   "outputs": [],
   "source": [
    "def convert_row_wikianc(row):\n",
    "    entities = []\n",
    "    for anchor in row['paragraph_anchors']:\n",
    "        start_raw = anchor.get('start')\n",
    "        end_raw = anchor.get('end')\n",
    "        qid = anchor.get('qid')\n",
    "        label = get_entity_by_qid(str(qid))\n",
    "\n",
    "        # skip if any are None\n",
    "        if start_raw is None or end_raw is None or label is None:\n",
    "            continue\n",
    "\n",
    "        # ensure these are actually integers\n",
    "        try:\n",
    "            start = int(start_raw)\n",
    "            end = int(end_raw)\n",
    "        except ValueError:\n",
    "            # if you can't convert them to int, skip\n",
    "            print(f\"start_raw={start_raw}, type(start_raw)={type(start_raw)}\")\n",
    "            print(f\"start_raw={end_raw}, type(start_raw)={type(end_raw)}\")\n",
    "            continue\n",
    "\n",
    "        entities.append({\n",
    "            \"start\": start,\n",
    "            \"end\": end,\n",
    "            \"label\": label,\n",
    "        })\n",
    "\n",
    "    data_point = {\n",
    "        \"text\": row[\"paragraph_text\"],\n",
    "        \"entities\": entities,\n",
    "    }\n",
    "    return data_point"
   ]
  },
  {
   "cell_type": "markdown",
   "id": "2b2759dc-829f-4f07-b34e-0829ad3b40ad",
   "metadata": {},
   "source": [
    "Doc file creator for SpaCy."
   ]
  },
  {
   "cell_type": "code",
   "execution_count": null,
   "id": "619e199a-5d1d-4660-91c8-aa305dd60a30",
   "metadata": {},
   "outputs": [],
   "source": [
    "def create_spacy_doc_bin_files(dataset, output_dir, file_name, language, chunk_size=20000):\n",
    "    os.makedirs(output_dir, exist_ok=True)  # Ensure output directory exists\n",
    "\n",
    "    nlp = spacy.blank(language)\n",
    "    docs_limit = len(dataset)\n",
    "    file_index = 0\n",
    "\n",
    "    for i in tqdm(range(0, docs_limit, chunk_size), \"Serialization:\"):\n",
    "        db = DocBin()\n",
    "        for j in range(i, min(i + chunk_size, docs_limit)):\n",
    "            datum = dataset[j]\n",
    "            text = datum['text']\n",
    "            doc = nlp(text)\n",
    "            ents = []\n",
    "            for entities in datum.get('entities', []):\n",
    "                start = entities.get('start')\n",
    "                end = entities.get('end')\n",
    "                label = entities.get('label')\n",
    "\n",
    "\n",
    "                # span = doc.char_span(start, end, label=TO_DEFAULT_SPACY_MAP.get(label, 'MISC'))\n",
    "                span = doc.char_span(start, end, label=label)\n",
    "\n",
    "                if text[start].isspace():\n",
    "                    print(f\"Entity span '{text[start:end]}' has leading whitespace. Skipping.\")\n",
    "                    print(f\"Text: '{text}'\")\n",
    "                    span = None\n",
    "\n",
    "                if text[end - 1].isspace():\n",
    "                    print(f\"Entity span '{text[start:end]}' has trailing whitespace. Skipping.\")\n",
    "                    print(f\"Text: '{text}'\")\n",
    "                    span = None\n",
    "\n",
    "                if span is not None:\n",
    "                    ents.append(span)\n",
    "\n",
    "\n",
    "            # Discard overlapping entities and keep the longest one\n",
    "            ents = sorted(ents, key=lambda x: (x.start, -x.end + x.start))\n",
    "            filtered_ents = []\n",
    "            for ent in ents:\n",
    "                if not filtered_ents or ent.start >= filtered_ents[-1].end:\n",
    "                    filtered_ents.append(ent)\n",
    "\n",
    "            try:\n",
    "                doc.ents = filtered_ents\n",
    "            except ValueError as ex:\n",
    "                print(f\"ValueError raised.\")\n",
    "                print(f\"filtered_ents={filtered_ents}, text={text}\")\n",
    "                raise ex\n",
    "            db.add(doc)\n",
    "\n",
    "        # Save the chunk to a new file\n",
    "        output_file = os.path.join(output_dir, f'{file_name}{file_index + 1}.spacy')\n",
    "        db.to_disk(output_file)\n",
    "        file_index += 1"
   ]
  },
  {
   "cell_type": "markdown",
   "id": "206603bb-7494-4370-afa8-4846d7d72dc1",
   "metadata": {},
   "source": [
    "Creates SpaCy files for training, test and validation for the specifies language."
   ]
  },
  {
   "cell_type": "code",
   "execution_count": null,
   "id": "6e7d593f-5bb3-474a-b461-8e3d9f81b887",
   "metadata": {},
   "outputs": [],
   "source": [
    "def create_spacy_files(data_source, language):\n",
    "    train_ner = data_source['train'].shuffle().select(range(800000)).map(convert_row_wikianc)\n",
    "    create_spacy_doc_bin_files(dataset=train_ner, file_name='train', output_dir=f'./{language}/train', language='xx')\n",
    "\n",
    "    dev_ner = data_source['test'].shuffle().select(range(240000)).map(convert_row_wikianc)\n",
    "    create_spacy_doc_bin_files(dataset=dev_ner, file_name='dev', output_dir=f'./{language}/dev', language='xx')\n",
    "\n",
    "    valid_ner = data_source['validation'].shuffle().select(range(120000)).map(convert_row_wikianc)\n",
    "    create_spacy_doc_bin_files(dataset=valid_ner, file_name='validation', output_dir=f'./{language}/validation', language='xx')"
   ]
  },
  {
   "cell_type": "markdown",
   "id": "45b52c05-7cae-42e5-bc94-abfe2bfb974c",
   "metadata": {},
   "source": [
    "## Load Datasets"
   ]
  },
  {
   "cell_type": "markdown",
   "id": "265de091-7f47-4d2e-870c-c4332b38137e",
   "metadata": {},
   "source": [
    "English"
   ]
  },
  {
   "cell_type": "code",
   "execution_count": null,
   "id": "26f393f6-19fa-4c7b-ae36-c1be271814b5",
   "metadata": {
    "scrolled": true
   },
   "outputs": [],
   "source": [
    "en_ds = load_and_split_ds('cyanic-selkie/wikianc', 'en')\n",
    "cs_ds = load_and_split_ds('cyanic-selkie/wikianc', 'cs')\n",
    "uk_ds = load_and_split_ds('cyanic-selkie/wikianc', 'uk')"
   ]
  },
  {
   "cell_type": "markdown",
   "id": "a80fac52-e098-4148-8b4d-8f9d7699f1fe",
   "metadata": {},
   "source": [
    "## Document Files Initialization"
   ]
  },
  {
   "cell_type": "markdown",
   "id": "37777ea5-cecb-4f27-b999-ba8b569f0b7e",
   "metadata": {},
   "source": [
    "Here we create document files for selected languages."
   ]
  },
  {
   "cell_type": "code",
   "execution_count": null,
   "id": "0090d325-35b5-4339-a39d-d4f43afcd2c1",
   "metadata": {},
   "outputs": [],
   "source": [
    "create_spacy_files(en_ds,'en')\n",
    "create_spacy_files(cs_ds,'cs')\n",
    "create_spacy_files(uk_ds,'uk')"
   ]
  },
  {
   "cell_type": "markdown",
   "id": "537e2b49-5f15-45ac-a70f-a8dfc0940eb3",
   "metadata": {},
   "source": [
    "Now to proceed the best way is to run the following commands in the console. However, if needed the training may be attempted from this notebook, but this is not tested."
   ]
  },
  {
   "cell_type": "code",
   "execution_count": null,
   "id": "0033706b-94c4-4d40-ba4b-fa44fb511166",
   "metadata": {},
   "outputs": [],
   "source": [
    "# %run -m spacy train config_1.cfg --output model_wikianc_en_1 --gpu-id 0"
   ]
  },
  {
   "cell_type": "code",
   "execution_count": null,
   "id": "8e020cba-41c6-4f8a-95eb-5728de3dab57",
   "metadata": {},
   "outputs": [],
   "source": [
    "# %run -m spacy train config_2.cfg --output model_wikianc_cs_1 --gpu-id 0"
   ]
  },
  {
   "cell_type": "code",
   "execution_count": null,
   "id": "9112974e-1b2a-4442-83be-4f84d33736d5",
   "metadata": {},
   "outputs": [],
   "source": [
    "# %run -m spacy train config_3.cfg --output model_wikianc_uk_1 --gpu-id 0"
   ]
  },
  {
   "cell_type": "markdown",
   "id": "ae121958-8461-4d9b-96da-0e9be90d2584",
   "metadata": {},
   "source": [
    "# Texts for Testing"
   ]
  },
  {
   "cell_type": "code",
   "execution_count": null,
   "id": "d3a4b463-4768-435e-81da-e8377aad81eb",
   "metadata": {},
   "outputs": [],
   "source": [
    "en_text = \"\"\"\n",
    "World War II or the Second World War (1 September 1939 – 2 September 1945) was a global conflict between two coalitions: the Allies and the Axis powers. Nearly all the world's countries—including all the great powers—participated, with many investing all available economic, industrial, and scientific capabilities in pursuit of total war, blurring the distinction between military and civilian resources. Tanks and aircraft played major roles, with the latter enabling the strategic bombing of population centres and delivery of the only two nuclear weapons ever used in war. World War II was the deadliest conflict in history, resulting in 70 to 85 million deaths, more than half being civilians. Millions died in genocides, including the Holocaust of European Jews, as well as from massacres, starvation, and disease. Following the Allied powers' victory, Germany, Austria, Japan, and Korea were occupied, and war crimes tribunals were conducted against German and Japanese leaders.\n",
    "The causes of World War II included unresolved tensions in the aftermath of World War I and the rise of fascism in Europe and militarism in Japan. Key events leading up to the war included Japan's invasion of Manchuria, the Spanish Civil War, the outbreak of the Second Sino-Japanese War, and Germany's annexations of Austria and the Sudetenland. World War II is generally considered to have begun on 1 September 1939, when Nazi Germany, under Adolf Hitler, invaded Poland, prompting the United Kingdom and France to declare war on Germany. Poland was divided between Germany and the Soviet Union under the Molotov–Ribbentrop Pact, in which they had agreed on \"spheres of influence\" in Eastern Europe. In 1940, the Soviets annexed the Baltic states and parts of Finland and Romania. After the fall of France in June 1940, the war continued mainly between Germany and the British Empire, with fighting in the Balkans, Mediterranean, and Middle East, the aerial Battle of Britain and the Blitz, and naval Battle of the Atlantic. Through a series of campaigns and treaties, Germany took control of much of continental Europe and formed the Axis alliance with Italy, Japan, and other countries. In June 1941, Germany led the European Axis in an invasion of the Soviet Union, opening the Eastern Front and initially making large territorial gains.\n",
    "Japan aimed to dominate East Asia and the Asia-Pacific, and by 1937 was at war with the Republic of China. In December 1941, Japan attacked American and British territories in Southeast Asia and the Central Pacific, including Pearl Harbor in Hawaii, which resulted in the US and the UK declaring war against Japan, and the European Axis declaring war on the US. Japan conquered much of coastal China and Southeast Asia, but its advances in the Pacific were halted in mid-1942 after its defeat in the naval Battle of Midway; Germany and Italy were defeated in North Africa and at Stalingrad in the Soviet Union. Key setbacks in 1943—including German defeats on the Eastern Front, the Allied invasions of Sicily and the Italian mainland, and Allied offensives in the Pacific—cost the Axis powers their initiative and forced them into strategic retreat on all fronts. In 1944, the Western Allies invaded German-occupied France at Normandy, while the Soviet Union regained its territorial losses and pushed Germany and its allies westward. At the same time, Japan suffered reversals in mainland Asia, while the Allies crippled the Japanese Navy and captured key islands.\n",
    "The war in Europe concluded with the liberation of German-occupied territories; the invasion of Germany by the Western Allies and the Soviet Union, culminating in the fall of Berlin to Soviet troops; Hitler's suicide; and the German unconditional surrender on 8 May 1945. Following the refusal of Japan to surrender on the terms of the Potsdam Declaration, the US dropped the first atomic bombs on Hiroshima and Nagasaki on 6 and 9 August. Faced with an imminent invasion of the Japanese archipelago, the possibility of further atomic bombings, and the Soviet declaration of war against Japan and its invasion of Manchuria, Japan announced its unconditional surrender on 15 August and signed a surrender document on 2 September 1945, marking the end of the war.\n",
    "World War II changed the political alignment and social structure of the world, and it set the foundation of international relations for the rest of the 20th century and into the 21st century. The United Nations was established to foster international cooperation and prevent conflicts, with the victorious great powers—China, France, the Soviet Union, the UK, and the US—becoming the permanent members of its security council. The Soviet Union and the United States emerged as rival superpowers, setting the stage for the Cold War. In the wake of European devastation, the influence of its great powers waned, triggering the decolonisation of Africa and Asia. Most countries whose industries had been damaged moved towards economic recovery and expansion.\n",
    "\"\"\"\n",
    "cs_text = \"\"\"\n",
    "Druhá světová válka byl globální vojenský konflikt v letech 1939–1945, jehož se zúčastnila většina států světa. Tento konflikt se stal s více než 62 miliony obětí na životech dosud největším a nejvíce zničujícím válečným střetnutím v dějinách lidstva.\n",
    "Brzy po okupaci zbytku Československa 15. března 1939 vypukla válka v Evropě. Začala dne 1. září 1939, když nacistické Německo přepadlo Polsko. Krátce poté vyhlásily Francie, Spojené království a státy Commonwealthu Německu válku. 17. září napadl Polsko i Sovětský svaz (SSSR). Německé invazi do Polska předcházela jeho smlouva o neútočení se SSSR, takzvaný pakt Ribbentrop–Molotov, podepsaná 23. srpna 1939. V tajném protokolu k tomuto paktu si tyto dva státy dočasně rozdělily sféry vlivu tzv. demarkační Curzonovu linii. Byla vytyčena v roce 1919 mezi druhou polskou republikou a Sovětským svazem, dvěma novými státy, které vznikly po první světové válce. Curzonova linie vznikla jako diplomatický podklad pro budoucí dohodu o hranicích. Vytyčila ji Rada Dohody podle usnesení z 8. prosince 1919. V důsledku toho byl de facto uvolněn prostor pro vojenskou expanzi obou stran. Ze strany Německa byl na části území Polska až k demarkační linii vytvořen Generalgouvernement – jako správní jednotka utvořená 26.10.1939 na základě Hitlerova dekretu, která zahrnovala část okupovaného území původního meziválečného Polska, které nebylo začleněno do Třetí říše (vojvodství Kielecké, Krakovské, Lublinské, část Lodžského a Varšavského). Sídlem správy byl Krakov. V čele Generálního gouvernementu stál válečný zločinec Hans Frank, pod jehož vedením docházelo k brutálnímu útisku a cílenému vyhlazování nejen polského, ale i židovského obyvatelstva v Polsku.\n",
    "Blesková válka na západě Evropy začala dne 10. května 1940, kdy německý Wehrmacht na rozkaz Adolfa Hitlera překročil hranice Belgie, Nizozemska a Lucemburska, a poté obešel obrannou Maginotovu linii. Po rychlé porážce francouzské armády vstoupila německá vojska 14. června do Paříže. Francie kapitulovala 22. června 1940 a do listopadu 1942 německá armáda postupně obsadila celou zemi.\n",
    "Sovětský svaz se stal jedním ze Spojenců druhé světové války proti Ose Berlín–Řím–Tokio poté, co nacistické Německo zahájilo dne 22. června 1941 proti němu rozsáhlou a ničivou operaci Barbarossa. Zprvu musela Rudá armáda ustupovat až k Moskvě. Po urputných bojích, např. v bitvě u Stalingradu (podzim 1942 – zima 1943), o Kurský oblouk, či obležení Leningradu (dnešní Petrohrad) atd., začala sovětská vojska zatlačovat Wehrmacht západním směrem a dne 2. května 1945 dobyla Berlín.\n",
    "Dne 7. července 1937 se udál incident na mostě Marca Pola v Pekingu. Tímto relativně malým vojenským střetnutím de facto vznikla druhá čínsko-japonská válka, zprvu bez formálního válečného stavu mezi Japonským císařstvím a Čínskou republikou. Japonsko poté pokračovalo ve své rozsáhlé expanzi proti čínským územím, pak přepadlo a dobylo řadu zemí v jihovýchodní Asii. Dne 7. prosince 1941 zaútočila letadla z japonských letadlových lodí na americkou námořní základnu Pearl Harbor na Havajských ostrovech. Den poté vstoupily Spojené státy americké do války proti Japonsku. Teprve 9. prosince 1941 vyhlásila čínská vláda oficiálně Japonsku válku. 11. prosince 1941 vyhlásily nacistické Německo a Itálie válku Spojeným státům, čímž byl utvrzen stav globálního konfliktu.\n",
    "Konec války v Evropě nastal 8. května 1945 bezpodmínečnou kapitulací Německa. Po americkém svržení atomových bomb ve dnech 6. a 9. srpna 1945 na města Hirošima a Nagasaki kapitulovalo Japonsko 2. září 1945.\n",
    "Příčiny války bývají hledány v důsledcích ideologií a politických směrů, jako jsou nacionalismus a imperialismus. Podle některých historiků byla jednou z hlavních příčin nespokojenost vládnoucích kruhů Německa s dopady Versailleské smlouvy, která měla prohloubit pocit ponížení po prohrané první světové válce, a v následcích velké hospodářské krize na přelomu dvacátých a třicátých let. Tyto vlivy zásadním způsobem oslabily mnoho evropských států, čímž umožnily vzestup nacismu a italského fašismu.\n",
    "Druhou světovou válku provázely v dosud nevídané míře válečné zločiny, zločiny proti lidskosti a nehumánní zacházení s válečnými zajatci, zvláště se sovětskými vojáky ze strany Německa. Průběhem bojů bylo podstatně zasaženo rovněž civilní obyvatelstvo, jež utrpělo obrovské ztráty. Nejhorším příkladem genocidy se stal holokaust (šoa), kterému na základě nacistické rasové ideologie padlo za oběť šest milionů Židů v koncentračních táborech a na jiných místech v mnoha zemích Evropy. Masakr čínského obyvatelstva, který spáchali Japonci v Nankingu v prosinci 1937, byl jedním z největších zločinů. V rámci operace Intelligenzaktion v roce 1939 zavraždili němečtí nacisté 60 000 až 100 000 příslušníků polské inteligence, důstojníků a představitelů měst i státu. V roce 1940 provedla sovětská NKVD tzv. katyňský masakr, při kterém bylo povražděno přibližně 22 000 polských důstojníků a příslušníků inteligence. Milionové oběti utrpělo slovanské civilní obyvatelstvo – Rusové, Ukrajinci, Bělorusové, Poláci a jiní – na územích východní fronty, kde ztratilo životy osm milionů lidí. Ti podléhali nemocem a hladu vyvolaným válečnými operacemi a masakrům páchaným na územích obsazených Wehrmachtem a jednotkami Waffen-SS.\n",
    "Válečné úsilí pohlcovalo téměř veškerý lidský, ekonomický, průmyslový a vědecký potenciál všech zúčastněných národů. Mnoho států utrpělo nepředstavitelné materiální ztráty a devastaci svého kulturního dědictví. Lze proto hovořit o tom, že se jednalo o totální válku. Téměř všechny zúčastněné strany se v menší či větší míře odchylovaly od požadavku vést válku „civilizovanými metodami“. I když Spojené království v roce 1940 odmítalo plošné nálety na nepřátelská města, posléze se k nim spolu se Spojenými státy samo uchýlilo.\n",
    "V samotném závěru světové války byla ustavena Organizace spojených národů, jejímž ústředním cílem byla a je i v současnosti prevence vzniku dalších válečných konfliktů. Po skončení války upevnily vítězné mocnosti USA a SSSR své postavení dvou světových supervelmocí. Jejich stále větší vzájemný antagonismus vedl k bipolárnímu rozdělení světa a k počátku studené války. První generální tajemník Komunistické strany Sovětského svazu Josif Stalin spustil napříč evropským kontinentem tzv. železnou oponu, která od sebe oddělila západní svět a státy ve Východní Evropě, především z obavy vojenského obsazení zemí Východní Evropy. Vedlejším efektem války byl také vzrůst požadavků na právo na sebeurčení mezi národy ovládanými koloniálními mocnostmi, což vedlo k akceleraci dekolonizačních hnutí v Asii a v Africe.\n",
    "Jednalo se o nejrozsáhlejší válku v dějinách, které se přímo účastnilo více než 100 milionů lidí z více než 30 zemí. Ve stavu totální války vrhli hlavní účastníci do válečného úsilí veškeré své hospodářské, průmyslové a vědecké kapacity, čímž se smazaly rozdíly mezi civilním a vojenským obyvatelstvem. \n",
    "\"\"\"\n",
    "uk_text = \"\"\"\n",
    "Друга світова війна - глобальний збройний конфлікт, що тривав від 1 вересня 1939 року до 2 вересня 1945 року. У війні взяло участь понад 60 країн, зокрема всі великі держави, які утворили два протилежні військові табори: блок країн Осі та антигітлерівську коаліцію («союзники»). Безпосередню участь у бойових діях брали понад 100 мільйонів осіб. Супротивні держави кинули всі економічні, промислові та наукові можливості на потреби фронту, стираючи різницю між цивільними та військовими ресурсами. Загальні людські втрати коливаються між 50 й 80 мільйонами осіб, більшість із яких були мешканцями Радянського Союзу та Китаю. Друга світова війна відзначилася численними масовими вбивствами і злочинами проти людяності, насамперед Голокостом, стратегічними килимовими бомбардуваннями та єдиним в історії військовим застосуванням ядерної зброї.\n",
    "Основними причинами війни стали політичні суперечності, породжені недосконалою Версальською системою, та агресивна експансіоністська політика нацистської Німеччини, Японської імперії та Італії. 1 вересня 1939 року гітлерівські війська вторглися в Польщу. 3 вересня Велика Британія та Франція оголосили Німеччині війну. Упродовж 1939—1941 років завдяки серії успішних військових кампаній та низки дипломатичних заходів Німеччина захопила більшу частину континентальної Європи. Саме тоді й Радянський Союз анексував (повністю або частково) території сусідніх європейських держав: Польщі, Румунії, Фінляндії та країн Балтії, що відійшли до його сфери впливу на підставі Пакту Молотова — Ріббентропа. Після початку бойових дій у Північній Африці та падіння Франції в середині 1940 року війна тривала насамперед між країнами Осі та Великою Британією, повітряні сили якої зуміли відбити німецькі повітряні атаки. У цей же час бойові дії поширились на Балканський півострів та Атлантичний океан. Японія окупувала частину Китаю та Південно-Східної Азії, взявши під контроль важливі джерела сировини.\n",
    "22 червня 1941 року війська країн Осі чисельністю 3.5 мільйонів осіб вторглися в Радянський Союз, маючи на меті завоювання «життєвого простору» в Східній Європі. Відкривши найбільший в історії сухопутний фронт, німецькі війська спершу доволі швидко окупували західні регіони СРСР, однак в битві за Москву зазнали поразки. В цей же час Японія віроломно напала на США та підкорила західну частину Тихого океану. Задля протистояння агресії країн Осі створено Антигітлерівську коаліцію 26 країн, в окупованих країнах розгорнувся рух опору. У лютому 1943 радянська армія здобула перемогу під Сталінградом. У Північній Африці німецькі та італійські війська зазнали поразки під Ель-Аламейном. Просування Японії зупинили сили американців і австралійців у битві за Мідвей. У 1943 році після низки військових невдач Гітлера на Східному фронті, висадки союзників у Сицилії та Італії, що призвело до капітуляції останньої, і перемог США на Тихому океані, країни Осі втратили ініціативу та перейшли до стратегічного відступу на всіх фронтах. У 1944 році армії західних альянтів визволили Західну та Центральну Європу, у той час як радянські війська вигнали війська Німеччини та окупантів з власної території та країн Східної й Південно-Східної Європи.\n",
    "Протягом 1944 та 1945 років Японія зазнала великих втрат у материковій Азії, у Південному Китаї та Бірмі; союзники знищили японський флот і заволоділи ключовими островами в західній частині Тихого океану. Німеччина опинилася в щільному кільці. До кінця квітня 1945 року радянські війська заволоділи значною частиною її території, зокрема й Берліном; Адольф Гітлер вчинив самогубство. 8 травня керівництво Вермахту підписало Акт про беззастережну капітуляцію. Ця дата вважається Днем перемоги над нацизмом в Європі. Після опублікування 26 липня 1945 Потсдамської декларації та відмови Японії капітулювати на її умовах США скинули атомні бомби на міста Хіросіму і Нагасакі 6 і 9 серпня відповідно. У серпні 1945 Радянський Союз розгорнув бойові дії проти Японії. Неминуче вторгнення американців на японський архіпелаг, а також можливість інших атомних бомбардувань змусили керівництво цієї острівної країни здатися. Акт про капітуляцію Японії підписали 2 вересня 1945 року на борту лінкора «Міссурі». Війна в Азії закінчилась, закріпивши загальну перемогу Антигітлерівської коаліції.\n",
    "Друга світова стала наймасштабнішою та найкривавішою війною в історії людства, великим переламом XX століття, що докорінно змінив політичну карту і соціальну структуру світу. Для сприяння розвитку міжнародного співробітництва та запобігання майбутнім конфліктам створено Організацію Об'єднаних Націй. Післявоєнний порядок утвердив гегемонію Сполучених Штатів і Радянського Союзу, суперництво яких призвело до утворення капіталістичного й соціалістичного таборів та початку Холодної війни. Світовий вплив європейських держав значно ослаб, почався процес деколонізації Азії та Африки. Перед країнами, чиї галузі економіки були знищені, гостро стояла проблема їхнього відновлення. У Європі поряд з цим постало питання європейської інтеграції як способу подолання ворожнечі й створення спільної ідентичності. \n",
    "\"\"\""
   ]
  },
  {
   "cell_type": "markdown",
   "id": "a47d87fb-432f-4fbd-b8a2-886c7f4b0fa7",
   "metadata": {},
   "source": [
    "# Models Comparison"
   ]
  },
  {
   "cell_type": "markdown",
   "id": "e676a7aa-2a7e-484c-b870-e40ff19d22b8",
   "metadata": {},
   "source": [
    "Let us compare the results from the SpaCy'soff the shelf model 'xx_ent_wiki_sm' and our trained one."
   ]
  },
  {
   "cell_type": "code",
   "execution_count": null,
   "id": "188d1cf9-7140-4f8f-9aec-d02962503026",
   "metadata": {},
   "outputs": [],
   "source": [
    "model = spacy.load('xx_ent_wiki_sm')\n",
    "model_trained = spacy.load(Path('model_wikianc_uk_2/model-best'))"
   ]
  },
  {
   "cell_type": "markdown",
   "id": "5166703d-6d39-4130-9bdc-7f7d25005a47",
   "metadata": {},
   "source": [
    "## English"
   ]
  },
  {
   "cell_type": "markdown",
   "id": "6a377b76-e050-49fe-ae08-7cc60088c484",
   "metadata": {},
   "source": [
    "### Off the Shelf Model"
   ]
  },
  {
   "cell_type": "code",
   "execution_count": null,
   "id": "0f43d267-b6a4-439d-bbbc-e62963790d86",
   "metadata": {},
   "outputs": [],
   "source": [
    "visualize_entities(en_text, model)"
   ]
  },
  {
   "cell_type": "markdown",
   "id": "2848a0b1-97ab-49b0-9f1a-87d3e0a8d640",
   "metadata": {},
   "source": [
    "### Trained Model"
   ]
  },
  {
   "cell_type": "code",
   "execution_count": null,
   "id": "3fd679d5-5deb-4ae2-8c42-9ef078d3df20",
   "metadata": {},
   "outputs": [],
   "source": [
    "visualize_entities(en_text, model_trained)"
   ]
  },
  {
   "cell_type": "markdown",
   "id": "657e0c75-b497-4af2-9ebc-8821938a4e1c",
   "metadata": {},
   "source": [
    "## Czech"
   ]
  },
  {
   "cell_type": "markdown",
   "id": "b83789d9-d03b-463d-8c4f-d49be85838d2",
   "metadata": {},
   "source": [
    "### Off the Shelf Model"
   ]
  },
  {
   "cell_type": "code",
   "execution_count": null,
   "id": "ee522c0c-f9af-4115-9090-0203afadde84",
   "metadata": {},
   "outputs": [],
   "source": [
    "visualize_entities(cs_text, model)"
   ]
  },
  {
   "cell_type": "markdown",
   "id": "a74dac67-7f50-4460-b860-2b3b1b15e020",
   "metadata": {},
   "source": [
    "### Trained Model"
   ]
  },
  {
   "cell_type": "code",
   "execution_count": null,
   "id": "eed3be35-13aa-4fa9-8da2-dc6e4577a973",
   "metadata": {},
   "outputs": [],
   "source": [
    "visualize_entities(cs_text, model_trained)"
   ]
  },
  {
   "cell_type": "markdown",
   "id": "7f6004dd-1638-4c89-8f31-d0c20c5a0dd0",
   "metadata": {},
   "source": [
    "## Ukrainian"
   ]
  },
  {
   "cell_type": "markdown",
   "id": "17d434a9-38ed-4c25-8736-043a74011e0f",
   "metadata": {},
   "source": [
    "### Off the Shelf Model"
   ]
  },
  {
   "cell_type": "code",
   "execution_count": null,
   "id": "12fcac0c-7082-469f-bce3-4d0580883107",
   "metadata": {},
   "outputs": [],
   "source": [
    "visualize_entities(uk_text, model)"
   ]
  },
  {
   "cell_type": "markdown",
   "id": "148c1e3f-44f6-4ceb-bdf0-abab2dd6d724",
   "metadata": {},
   "source": [
    "### Trained Model"
   ]
  },
  {
   "cell_type": "code",
   "execution_count": null,
   "id": "62915d94-9a37-4162-aefa-b91aa416ea8f",
   "metadata": {},
   "outputs": [],
   "source": [
    "visualize_entities(uk_text, model_trained)"
   ]
  },
  {
   "cell_type": "markdown",
   "id": "08e0c5e1-b12f-40b3-9e44-96a83fe13113",
   "metadata": {},
   "source": [
    "# Evaluation"
   ]
  },
  {
   "cell_type": "markdown",
   "id": "bbb8b9e5-43a3-4d85-88ff-9dd5ab06c776",
   "metadata": {},
   "source": [
    "## Commands"
   ]
  },
  {
   "cell_type": "markdown",
   "id": "491fabc2-9f01-4e0f-a9cb-4f3854aa07d5",
   "metadata": {},
   "source": [
    "Benchmark was run with the following commands from the command line."
   ]
  },
  {
   "cell_type": "code",
   "execution_count": null,
   "id": "78ca5270-b831-4a6c-a6a3-25b041f91756",
   "metadata": {},
   "outputs": [],
   "source": [
    "# %run -m spacy benchmark accuracy \"model_wikianc_uk_2/model-best\" en/validation --gpu-id 0\n",
    "# %run -m spacy benchmark accuracy \"model_wikianc_uk_2/model-best\" cs/validation --gpu-id 0\n",
    "# %run -m spacy benchmark accuracy \"model_wikianc_uk_2/model-best\" uk/validation --gpu-id 0"
   ]
  },
  {
   "cell_type": "markdown",
   "id": "ae2a3d08-ea1c-47a6-b313-6236f54ddf97",
   "metadata": {},
   "source": [
    "To evaluate the off the shelf SpaCy model \"xx_ent_wiki_sm\" download its pipeline at https://github.com/explosion/spacy-models/releases/download/xx_ent_wiki_sm-3.8.0/xx_ent_wiki_sm-3.8.0-py3-none-any.whl, extract it and run the following commands."
   ]
  },
  {
   "cell_type": "code",
   "execution_count": null,
   "id": "bbcf00ea-e43c-4fbd-a926-66f566b5a987",
   "metadata": {},
   "outputs": [],
   "source": [
    "# %run -m spacy benchmark accuracy xx_ent_wiki_sm-3.8.0-py3-none-any/xx_ent_wiki_sm/xx_ent_wiki_sm-3.8.0 en/validation --gpu-id 0\n",
    "# %run -m spacy benchmark accuracy xx_ent_wiki_sm-3.8.0-py3-none-any/xx_ent_wiki_sm/xx_ent_wiki_sm-3.8.0 cs/validation --gpu-id 0\n",
    "# %run -m spacy benchmark accuracy xx_ent_wiki_sm-3.8.0-py3-none-any/xx_ent_wiki_sm/xx_ent_wiki_sm-3.8.0 uk/validation --gpu-id 0"
   ]
  },
  {
   "cell_type": "markdown",
   "id": "3b14caca-b476-4b73-93fc-5a39a391ba40",
   "metadata": {},
   "source": [
    "## Evaluation Results"
   ]
  },
  {
   "cell_type": "markdown",
   "id": "3b02d2a7-f499-43a8-a9cb-cf378cc6a6b1",
   "metadata": {},
   "source": [
    "### English"
   ]
  },
  {
   "cell_type": "markdown",
   "id": "02dd600f-62b1-453e-a1ef-eb41329e9111",
   "metadata": {},
   "source": [
    "#### Off the shelf model"
   ]
  },
  {
   "cell_type": "raw",
   "id": "13a92100-6d86-458e-a9f0-1a1c10422e8b",
   "metadata": {},
   "source": [
    "================================== Results ==================================\n",
    "\n",
    "TOK     100.00\n",
    "NER P   19.49 \n",
    "NER R   44.03 \n",
    "NER F   27.02 \n",
    "SPEED   147379\n",
    "\n",
    "\n",
    "=============================== NER (per type) ===============================\n",
    "\n",
    "           P       R       F\n",
    "ORG    25.34   47.62   33.08\n",
    "PER    20.07   85.29   32.49\n",
    "MISC   16.27   18.83   17.45\n",
    "LOC    18.46   71.05   29.31"
   ]
  },
  {
   "cell_type": "markdown",
   "id": "8933d663-63a7-44d8-aaee-b05598ff68b8",
   "metadata": {},
   "source": [
    "#### Custom model"
   ]
  },
  {
   "cell_type": "raw",
   "id": "e7daccc5-a36a-4e44-8c50-d6afbf49348b",
   "metadata": {},
   "source": [
    "================================== Results ==================================\n",
    "\n",
    "TOK     100.00\n",
    "NER P   47.00 \n",
    "NER R   33.11 \n",
    "NER F   38.85 \n",
    "SPEED   24475 \n",
    "\n",
    "\n",
    "=============================== NER (per type) ===============================\n",
    "\n",
    "           P       R       F\n",
    "LOC    45.89   43.75   44.79\n",
    "MISC   36.00   22.80   27.92\n",
    "PER    74.30   50.57   60.18\n",
    "ORG    51.83   34.67   41.55"
   ]
  },
  {
   "cell_type": "markdown",
   "id": "dc08d829-8e1d-4745-bf21-59eb30753609",
   "metadata": {},
   "source": [
    "### Czech"
   ]
  },
  {
   "cell_type": "markdown",
   "id": "f0318b2b-bbe0-41d1-92a3-1ad9948074d1",
   "metadata": {},
   "source": [
    "#### Off the shelf model"
   ]
  },
  {
   "cell_type": "raw",
   "id": "4b8380f5-149f-4750-a242-5e55c0682357",
   "metadata": {},
   "source": [
    "================================== Results ==================================\n",
    "\n",
    "TOK     100.00\n",
    "NER P   12.95 \n",
    "NER R   21.29 \n",
    "NER F   16.10 \n",
    "SPEED   118922\n",
    "\n",
    "\n",
    "=============================== NER (per type) ===============================\n",
    "\n",
    "           P       R       F\n",
    "LOC    16.76   43.96   24.27\n",
    "ORG    18.32   23.47   20.58\n",
    "PER    10.15   73.52   17.84\n",
    "MISC   10.70    4.41    6.25\n"
   ]
  },
  {
   "cell_type": "markdown",
   "id": "eda4332c-4728-4432-8ee8-2f62d4246a85",
   "metadata": {},
   "source": [
    "#### Custom model"
   ]
  },
  {
   "cell_type": "raw",
   "id": "aec0b340-fb79-49b5-90ec-d608a2c42ab2",
   "metadata": {},
   "source": [
    "================================== Results ==================================\n",
    "\n",
    "TOK     100.00\n",
    "NER P   54.31 \n",
    "NER R   38.18 \n",
    "NER F   44.84 \n",
    "SPEED   19920 \n",
    "\n",
    "\n",
    "=============================== NER (per type) ===============================\n",
    "\n",
    "           P       R       F\n",
    "LOC    57.45   55.72   56.57\n",
    "ORG    48.33   41.57   44.69\n",
    "MISC   50.88   26.90   35.19\n",
    "PER    62.90   66.43   64.62"
   ]
  },
  {
   "cell_type": "markdown",
   "id": "d0d4f89c-57ea-49a8-9b50-dcdb889f8b08",
   "metadata": {},
   "source": [
    "### Ukrainian"
   ]
  },
  {
   "cell_type": "markdown",
   "id": "5ef879c8-bd61-4a37-b144-d209d700c2e8",
   "metadata": {},
   "source": [
    "#### Off the shelf model"
   ]
  },
  {
   "cell_type": "markdown",
   "id": "77892918-aca1-45f0-9f64-f97433b71a03",
   "metadata": {},
   "source": [
    "================================== Results ==================================\n",
    "\n",
    "TOK     100.00\n",
    "NER P   14.89 \n",
    "NER R   23.57 \n",
    "NER F   18.25 \n",
    "SPEED   105667\n",
    "\n",
    "\n",
    "=============================== NER (per type) ===============================\n",
    "\n",
    "           P       R       F\n",
    "MISC   11.26    3.98    5.88\n",
    "PER     8.85   80.40   15.95\n",
    "ORG    14.22   11.62   12.79\n",
    "LOC    23.35   53.53   32.51"
   ]
  },
  {
   "cell_type": "markdown",
   "id": "b1950687-690c-481e-97e1-39c925842353",
   "metadata": {},
   "source": [
    "#### Custom model"
   ]
  },
  {
   "cell_type": "raw",
   "id": "f8f22f05-e4b5-475e-8d8b-0c9e09a4fc79",
   "metadata": {},
   "source": [
    "================================== Results ==================================\n",
    "\n",
    "TOK     100.00\n",
    "NER P   64.15 \n",
    "NER R   56.48 \n",
    "NER F   60.08 \n",
    "SPEED   15315 \n",
    "\n",
    "\n",
    "=============================== NER (per type) ===============================\n",
    "\n",
    "           P       R       F\n",
    "MISC   65.10   44.81   53.08\n",
    "LOC    69.09   75.54   72.17\n",
    "PER    56.37   66.38   60.97\n",
    "ORG    56.57   63.09   59.65"
   ]
  },
  {
   "cell_type": "markdown",
   "id": "f0348a62-07d6-4ea4-a108-437536e675d7",
   "metadata": {},
   "source": [
    "# Discussion and Limitations of the Approach"
   ]
  },
  {
   "cell_type": "markdown",
   "id": "9a67a663-6917-4f8c-9925-caaa85c948f2",
   "metadata": {},
   "source": [
    "The results seem to be inconclusive. Benchmark results show that the custom model performs better in general, but checking on a sample Wikipedia text (WW2) shows that for that specific case and the English language the off the shelf model performs better.\n",
    "\n",
    "Training sequentially each language might not be the best approach, however this approach revealed that with each next training in the new language, the performange in the old languages somewhat deteriorates.\n",
    "\n",
    "When testing on custom small sentences the custom model performs very poorly and hardly recognises any entities. Moreover, it is also sensitive to slight changes in the sentence (making it find or stop finding an entity). The off the shelf model performs very well in such cases.\n",
    "\n",
    "We can assume that given enough resources and time these issues can be addressed and the custom model will also perform better, especially when training with all languages at the same time."
   ]
  }
 ],
 "metadata": {
  "kernelspec": {
   "display_name": "Python 3 (ipykernel)",
   "language": "python",
   "name": "python3"
  },
  "language_info": {
   "codemirror_mode": {
    "name": "ipython",
    "version": 3
   },
   "file_extension": ".py",
   "mimetype": "text/x-python",
   "name": "python",
   "nbconvert_exporter": "python",
   "pygments_lexer": "ipython3",
   "version": "3.12.3"
  }
 },
 "nbformat": 4,
 "nbformat_minor": 5
}
