{
 "cells": [
  {
   "cell_type": "markdown",
   "id": "0f5f4e78-edbf-495e-910d-9d97d764ef12",
   "metadata": {},
   "source": [
    "# Memory on this machine"
   ]
  },
  {
   "cell_type": "code",
   "execution_count": 1,
   "id": "ba955195-abe6-443d-86ae-f5ac6e589513",
   "metadata": {},
   "outputs": [
    {
     "name": "stdout",
     "output_type": "stream",
     "text": [
      "Total RAM:\n",
      "62.25 GB\n",
      "GPU Memory Capacity:\n",
      "memory.total [MiB]\n",
      "16384 MiB\n",
      "\n"
     ]
    }
   ],
   "source": [
    "import psutil\n",
    "import subprocess\n",
    "\n",
    "# Get the total RAM in bytes\n",
    "total_ram = psutil.virtual_memory().total\n",
    "\n",
    "# Convert bytes to GB\n",
    "total_ram_gb = total_ram / (1024 ** 3)\n",
    "\n",
    "print(f\"Total RAM:\\n{total_ram_gb:.2f} GB\")\n",
    "\n",
    "# Run nvidia-smi and capture the output\n",
    "result = subprocess.run(['nvidia-smi', '--query-gpu=memory.total', '--format=csv'], stdout=subprocess.PIPE)\n",
    "output = result.stdout.decode('utf-8')\n",
    "\n",
    "# Print the output\n",
    "print(\"GPU Memory Capacity:\")\n",
    "print(output)"
   ]
  },
  {
   "cell_type": "markdown",
   "id": "22feb22c-653d-4bf0-bfb6-a73457c651b0",
   "metadata": {},
   "source": [
    "CUDA environment variables."
   ]
  },
  {
   "cell_type": "code",
   "execution_count": 2,
   "id": "85cdb841-4129-42f9-b66e-67b7eb52e7fb",
   "metadata": {},
   "outputs": [],
   "source": [
    "# import os\n",
    "# os.environ['CUDA_VISIBLE_DEVICES'] = '0'\n",
    "# os.environ['LD_LIBRARY_PATH'] = '/usr/local/cuda/lib64'"
   ]
  },
  {
   "cell_type": "markdown",
   "id": "ddacc510-1b57-4bac-822d-3a8ed092cdfa",
   "metadata": {},
   "source": [
    "# Imports"
   ]
  },
  {
   "cell_type": "code",
   "execution_count": 3,
   "id": "2e2a7337-bf37-446f-b290-ce7d72cd9985",
   "metadata": {},
   "outputs": [
    {
     "name": "stdout",
     "output_type": "stream",
     "text": [
      "Requirement already satisfied: numpy==1.26.4 in /home/viktor/jupyter/lib/python3.12/site-packages (1.26.4)\n",
      "Traceback (most recent call last):\n",
      "  File \"<frozen runpy>\", line 198, in _run_module_as_main\n",
      "  File \"<frozen runpy>\", line 88, in _run_code\n",
      "  File \"/home/viktor/jupyter/lib/python3.12/site-packages/cupyx/tools/install_library.py\", line 300, in <module>\n",
      "    main(sys.argv[1:])\n",
      "  File \"/home/viktor/jupyter/lib/python3.12/site-packages/cupyx/tools/install_library.py\", line 292, in main\n",
      "    install_lib(params.cuda, params.prefix, params.library)\n",
      "  File \"/home/viktor/jupyter/lib/python3.12/site-packages/cupyx/tools/install_library.py\", line 193, in install_lib\n",
      "    raise RuntimeError('''\n",
      "RuntimeError: \n",
      "The destination directory /home/viktor/.cupy/cuda_lib/12.x/cutensor/2.0.1 already exists.\n",
      "Remove the directory first if you want to reinstall.\n",
      "Requirement already satisfied: cupy-cuda12x in /home/viktor/jupyter/lib/python3.12/site-packages (13.3.0)\n",
      "Requirement already satisfied: numpy<2.3,>=1.22 in /home/viktor/jupyter/lib/python3.12/site-packages (from cupy-cuda12x) (1.26.4)\n",
      "Requirement already satisfied: fastrlock>=0.5 in /home/viktor/jupyter/lib/python3.12/site-packages (from cupy-cuda12x) (0.8.3)\n",
      "Requirement already satisfied: spacy[transformers] in /home/viktor/jupyter/lib/python3.12/site-packages (3.7.6)\n",
      "Requirement already satisfied: spacy-legacy<3.1.0,>=3.0.11 in /home/viktor/jupyter/lib/python3.12/site-packages (from spacy[transformers]) (3.0.12)\n",
      "Requirement already satisfied: spacy-loggers<2.0.0,>=1.0.0 in /home/viktor/jupyter/lib/python3.12/site-packages (from spacy[transformers]) (1.0.5)\n",
      "Requirement already satisfied: murmurhash<1.1.0,>=0.28.0 in /home/viktor/jupyter/lib/python3.12/site-packages (from spacy[transformers]) (1.0.10)\n",
      "Requirement already satisfied: cymem<2.1.0,>=2.0.2 in /home/viktor/jupyter/lib/python3.12/site-packages (from spacy[transformers]) (2.0.8)\n",
      "Requirement already satisfied: preshed<3.1.0,>=3.0.2 in /home/viktor/jupyter/lib/python3.12/site-packages (from spacy[transformers]) (3.0.9)\n",
      "Requirement already satisfied: thinc<8.3.0,>=8.2.2 in /home/viktor/jupyter/lib/python3.12/site-packages (from spacy[transformers]) (8.2.5)\n",
      "Requirement already satisfied: wasabi<1.2.0,>=0.9.1 in /home/viktor/jupyter/lib/python3.12/site-packages (from spacy[transformers]) (1.1.3)\n",
      "Requirement already satisfied: srsly<3.0.0,>=2.4.3 in /home/viktor/jupyter/lib/python3.12/site-packages (from spacy[transformers]) (2.4.8)\n",
      "Requirement already satisfied: catalogue<2.1.0,>=2.0.6 in /home/viktor/jupyter/lib/python3.12/site-packages (from spacy[transformers]) (2.0.10)\n",
      "Requirement already satisfied: weasel<0.5.0,>=0.1.0 in /home/viktor/jupyter/lib/python3.12/site-packages (from spacy[transformers]) (0.4.1)\n",
      "Requirement already satisfied: typer<1.0.0,>=0.3.0 in /home/viktor/jupyter/lib/python3.12/site-packages (from spacy[transformers]) (0.12.4)\n",
      "Requirement already satisfied: tqdm<5.0.0,>=4.38.0 in /home/viktor/jupyter/lib/python3.12/site-packages (from spacy[transformers]) (4.67.1)\n",
      "Requirement already satisfied: requests<3.0.0,>=2.13.0 in /home/viktor/jupyter/lib/python3.12/site-packages (from spacy[transformers]) (2.32.3)\n",
      "Requirement already satisfied: pydantic!=1.8,!=1.8.1,<3.0.0,>=1.7.4 in /home/viktor/jupyter/lib/python3.12/site-packages (from spacy[transformers]) (2.8.2)\n",
      "Requirement already satisfied: jinja2 in /home/viktor/jupyter/lib/python3.12/site-packages (from spacy[transformers]) (3.1.4)\n",
      "Requirement already satisfied: setuptools in /home/viktor/jupyter/lib/python3.12/site-packages (from spacy[transformers]) (73.0.1)\n",
      "Requirement already satisfied: packaging>=20.0 in /home/viktor/jupyter/lib/python3.12/site-packages (from spacy[transformers]) (24.2)\n",
      "Requirement already satisfied: langcodes<4.0.0,>=3.2.0 in /home/viktor/jupyter/lib/python3.12/site-packages (from spacy[transformers]) (3.4.0)\n",
      "Requirement already satisfied: numpy>=1.19.0 in /home/viktor/jupyter/lib/python3.12/site-packages (from spacy[transformers]) (1.26.4)\n",
      "Requirement already satisfied: spacy-transformers<1.4.0,>=1.1.2 in /home/viktor/jupyter/lib/python3.12/site-packages (from spacy[transformers]) (1.3.5)\n",
      "Requirement already satisfied: language-data>=1.2 in /home/viktor/jupyter/lib/python3.12/site-packages (from langcodes<4.0.0,>=3.2.0->spacy[transformers]) (1.2.0)\n",
      "Requirement already satisfied: annotated-types>=0.4.0 in /home/viktor/jupyter/lib/python3.12/site-packages (from pydantic!=1.8,!=1.8.1,<3.0.0,>=1.7.4->spacy[transformers]) (0.7.0)\n",
      "Requirement already satisfied: pydantic-core==2.20.1 in /home/viktor/jupyter/lib/python3.12/site-packages (from pydantic!=1.8,!=1.8.1,<3.0.0,>=1.7.4->spacy[transformers]) (2.20.1)\n",
      "Requirement already satisfied: typing-extensions>=4.6.1 in /home/viktor/jupyter/lib/python3.12/site-packages (from pydantic!=1.8,!=1.8.1,<3.0.0,>=1.7.4->spacy[transformers]) (4.12.2)\n",
      "Requirement already satisfied: charset-normalizer<4,>=2 in /home/viktor/jupyter/lib/python3.12/site-packages (from requests<3.0.0,>=2.13.0->spacy[transformers]) (3.4.0)\n",
      "Requirement already satisfied: idna<4,>=2.5 in /home/viktor/jupyter/lib/python3.12/site-packages (from requests<3.0.0,>=2.13.0->spacy[transformers]) (3.10)\n",
      "Requirement already satisfied: urllib3<3,>=1.21.1 in /home/viktor/jupyter/lib/python3.12/site-packages (from requests<3.0.0,>=2.13.0->spacy[transformers]) (2.2.3)\n",
      "Requirement already satisfied: certifi>=2017.4.17 in /home/viktor/jupyter/lib/python3.12/site-packages (from requests<3.0.0,>=2.13.0->spacy[transformers]) (2024.8.30)\n",
      "Requirement already satisfied: transformers<4.37.0,>=3.4.0 in /home/viktor/jupyter/lib/python3.12/site-packages (from spacy-transformers<1.4.0,>=1.1.2->spacy[transformers]) (4.36.2)\n",
      "Requirement already satisfied: torch>=1.8.0 in /home/viktor/jupyter/lib/python3.12/site-packages (from spacy-transformers<1.4.0,>=1.1.2->spacy[transformers]) (2.4.0)\n",
      "Requirement already satisfied: spacy-alignments<1.0.0,>=0.7.2 in /home/viktor/jupyter/lib/python3.12/site-packages (from spacy-transformers<1.4.0,>=1.1.2->spacy[transformers]) (0.9.1)\n",
      "Requirement already satisfied: blis<0.8.0,>=0.7.8 in /home/viktor/jupyter/lib/python3.12/site-packages (from thinc<8.3.0,>=8.2.2->spacy[transformers]) (0.7.11)\n",
      "Requirement already satisfied: confection<1.0.0,>=0.0.1 in /home/viktor/jupyter/lib/python3.12/site-packages (from thinc<8.3.0,>=8.2.2->spacy[transformers]) (0.1.5)\n",
      "Requirement already satisfied: click>=8.0.0 in /home/viktor/jupyter/lib/python3.12/site-packages (from typer<1.0.0,>=0.3.0->spacy[transformers]) (8.1.7)\n",
      "Requirement already satisfied: shellingham>=1.3.0 in /home/viktor/jupyter/lib/python3.12/site-packages (from typer<1.0.0,>=0.3.0->spacy[transformers]) (1.5.4)\n",
      "Requirement already satisfied: rich>=10.11.0 in /home/viktor/jupyter/lib/python3.12/site-packages (from typer<1.0.0,>=0.3.0->spacy[transformers]) (13.7.1)\n",
      "Requirement already satisfied: cloudpathlib<1.0.0,>=0.7.0 in /home/viktor/jupyter/lib/python3.12/site-packages (from weasel<0.5.0,>=0.1.0->spacy[transformers]) (0.18.1)\n",
      "Requirement already satisfied: smart-open<8.0.0,>=5.2.1 in /home/viktor/jupyter/lib/python3.12/site-packages (from weasel<0.5.0,>=0.1.0->spacy[transformers]) (7.0.4)\n",
      "Requirement already satisfied: MarkupSafe>=2.0 in /home/viktor/jupyter/lib/python3.12/site-packages (from jinja2->spacy[transformers]) (2.1.5)\n",
      "Requirement already satisfied: marisa-trie>=0.7.7 in /home/viktor/jupyter/lib/python3.12/site-packages (from language-data>=1.2->langcodes<4.0.0,>=3.2.0->spacy[transformers]) (1.2.0)\n",
      "Requirement already satisfied: markdown-it-py>=2.2.0 in /home/viktor/jupyter/lib/python3.12/site-packages (from rich>=10.11.0->typer<1.0.0,>=0.3.0->spacy[transformers]) (3.0.0)\n",
      "Requirement already satisfied: pygments<3.0.0,>=2.13.0 in /home/viktor/jupyter/lib/python3.12/site-packages (from rich>=10.11.0->typer<1.0.0,>=0.3.0->spacy[transformers]) (2.18.0)\n",
      "Requirement already satisfied: wrapt in /home/viktor/jupyter/lib/python3.12/site-packages (from smart-open<8.0.0,>=5.2.1->weasel<0.5.0,>=0.1.0->spacy[transformers]) (1.16.0)\n",
      "Requirement already satisfied: filelock in /home/viktor/jupyter/lib/python3.12/site-packages (from torch>=1.8.0->spacy-transformers<1.4.0,>=1.1.2->spacy[transformers]) (3.16.1)\n",
      "Requirement already satisfied: sympy in /home/viktor/jupyter/lib/python3.12/site-packages (from torch>=1.8.0->spacy-transformers<1.4.0,>=1.1.2->spacy[transformers]) (1.13.2)\n",
      "Requirement already satisfied: networkx in /home/viktor/jupyter/lib/python3.12/site-packages (from torch>=1.8.0->spacy-transformers<1.4.0,>=1.1.2->spacy[transformers]) (3.3)\n",
      "Requirement already satisfied: fsspec in /home/viktor/jupyter/lib/python3.12/site-packages (from torch>=1.8.0->spacy-transformers<1.4.0,>=1.1.2->spacy[transformers]) (2024.9.0)\n",
      "Requirement already satisfied: nvidia-cuda-nvrtc-cu12==12.1.105 in /home/viktor/jupyter/lib/python3.12/site-packages (from torch>=1.8.0->spacy-transformers<1.4.0,>=1.1.2->spacy[transformers]) (12.1.105)\n",
      "Requirement already satisfied: nvidia-cuda-runtime-cu12==12.1.105 in /home/viktor/jupyter/lib/python3.12/site-packages (from torch>=1.8.0->spacy-transformers<1.4.0,>=1.1.2->spacy[transformers]) (12.1.105)\n",
      "Requirement already satisfied: nvidia-cuda-cupti-cu12==12.1.105 in /home/viktor/jupyter/lib/python3.12/site-packages (from torch>=1.8.0->spacy-transformers<1.4.0,>=1.1.2->spacy[transformers]) (12.1.105)\n",
      "Requirement already satisfied: nvidia-cudnn-cu12==9.1.0.70 in /home/viktor/jupyter/lib/python3.12/site-packages (from torch>=1.8.0->spacy-transformers<1.4.0,>=1.1.2->spacy[transformers]) (9.1.0.70)\n",
      "Requirement already satisfied: nvidia-cublas-cu12==12.1.3.1 in /home/viktor/jupyter/lib/python3.12/site-packages (from torch>=1.8.0->spacy-transformers<1.4.0,>=1.1.2->spacy[transformers]) (12.1.3.1)\n",
      "Requirement already satisfied: nvidia-cufft-cu12==11.0.2.54 in /home/viktor/jupyter/lib/python3.12/site-packages (from torch>=1.8.0->spacy-transformers<1.4.0,>=1.1.2->spacy[transformers]) (11.0.2.54)\n",
      "Requirement already satisfied: nvidia-curand-cu12==10.3.2.106 in /home/viktor/jupyter/lib/python3.12/site-packages (from torch>=1.8.0->spacy-transformers<1.4.0,>=1.1.2->spacy[transformers]) (10.3.2.106)\n",
      "Requirement already satisfied: nvidia-cusolver-cu12==11.4.5.107 in /home/viktor/jupyter/lib/python3.12/site-packages (from torch>=1.8.0->spacy-transformers<1.4.0,>=1.1.2->spacy[transformers]) (11.4.5.107)\n",
      "Requirement already satisfied: nvidia-cusparse-cu12==12.1.0.106 in /home/viktor/jupyter/lib/python3.12/site-packages (from torch>=1.8.0->spacy-transformers<1.4.0,>=1.1.2->spacy[transformers]) (12.1.0.106)\n",
      "Requirement already satisfied: nvidia-nccl-cu12==2.20.5 in /home/viktor/jupyter/lib/python3.12/site-packages (from torch>=1.8.0->spacy-transformers<1.4.0,>=1.1.2->spacy[transformers]) (2.20.5)\n",
      "Requirement already satisfied: nvidia-nvtx-cu12==12.1.105 in /home/viktor/jupyter/lib/python3.12/site-packages (from torch>=1.8.0->spacy-transformers<1.4.0,>=1.1.2->spacy[transformers]) (12.1.105)\n",
      "Requirement already satisfied: triton==3.0.0 in /home/viktor/jupyter/lib/python3.12/site-packages (from torch>=1.8.0->spacy-transformers<1.4.0,>=1.1.2->spacy[transformers]) (3.0.0)\n",
      "Requirement already satisfied: nvidia-nvjitlink-cu12 in /home/viktor/jupyter/lib/python3.12/site-packages (from nvidia-cusolver-cu12==11.4.5.107->torch>=1.8.0->spacy-transformers<1.4.0,>=1.1.2->spacy[transformers]) (12.6.20)\n",
      "Requirement already satisfied: huggingface-hub<1.0,>=0.19.3 in /home/viktor/jupyter/lib/python3.12/site-packages (from transformers<4.37.0,>=3.4.0->spacy-transformers<1.4.0,>=1.1.2->spacy[transformers]) (0.26.3)\n",
      "Requirement already satisfied: pyyaml>=5.1 in /home/viktor/jupyter/lib/python3.12/site-packages (from transformers<4.37.0,>=3.4.0->spacy-transformers<1.4.0,>=1.1.2->spacy[transformers]) (6.0.2)\n",
      "Requirement already satisfied: regex!=2019.12.17 in /home/viktor/jupyter/lib/python3.12/site-packages (from transformers<4.37.0,>=3.4.0->spacy-transformers<1.4.0,>=1.1.2->spacy[transformers]) (2024.11.6)\n",
      "Requirement already satisfied: tokenizers<0.19,>=0.14 in /home/viktor/jupyter/lib/python3.12/site-packages (from transformers<4.37.0,>=3.4.0->spacy-transformers<1.4.0,>=1.1.2->spacy[transformers]) (0.15.2)\n",
      "Requirement already satisfied: safetensors>=0.3.1 in /home/viktor/jupyter/lib/python3.12/site-packages (from transformers<4.37.0,>=3.4.0->spacy-transformers<1.4.0,>=1.1.2->spacy[transformers]) (0.4.5)\n",
      "Requirement already satisfied: mdurl~=0.1 in /home/viktor/jupyter/lib/python3.12/site-packages (from markdown-it-py>=2.2.0->rich>=10.11.0->typer<1.0.0,>=0.3.0->spacy[transformers]) (0.1.2)\n",
      "Requirement already satisfied: mpmath<1.4,>=1.1.0 in /home/viktor/jupyter/lib/python3.12/site-packages (from sympy->torch>=1.8.0->spacy-transformers<1.4.0,>=1.1.2->spacy[transformers]) (1.3.0)\n",
      "/home/viktor/jupyter/lib/python3.12/site-packages/transformers/utils/generic.py:441: FutureWarning: `torch.utils._pytree._register_pytree_node` is deprecated. Please use `torch.utils._pytree.register_pytree_node` instead.\n",
      "  _torch_pytree._register_pytree_node(\n",
      "Collecting xx-ent-wiki-sm==3.7.0\n",
      "  Downloading https://github.com/explosion/spacy-models/releases/download/xx_ent_wiki_sm-3.7.0/xx_ent_wiki_sm-3.7.0-py3-none-any.whl (11.1 MB)\n",
      "\u001b[2K     \u001b[38;2;114;156;31m━━━━━━━━━━━━━━━━━━━━━━━━━━━━━━━━━━━━━━━━\u001b[0m \u001b[32m11.1/11.1 MB\u001b[0m \u001b[31m34.3 MB/s\u001b[0m eta \u001b[36m0:00:00\u001b[0mMB/s\u001b[0m eta \u001b[36m0:00:01\u001b[0m\n",
      "\u001b[?25hRequirement already satisfied: spacy<3.8.0,>=3.7.0 in /home/viktor/jupyter/lib/python3.12/site-packages (from xx-ent-wiki-sm==3.7.0) (3.7.6)\n",
      "Requirement already satisfied: spacy-legacy<3.1.0,>=3.0.11 in /home/viktor/jupyter/lib/python3.12/site-packages (from spacy<3.8.0,>=3.7.0->xx-ent-wiki-sm==3.7.0) (3.0.12)\n",
      "Requirement already satisfied: spacy-loggers<2.0.0,>=1.0.0 in /home/viktor/jupyter/lib/python3.12/site-packages (from spacy<3.8.0,>=3.7.0->xx-ent-wiki-sm==3.7.0) (1.0.5)\n",
      "Requirement already satisfied: murmurhash<1.1.0,>=0.28.0 in /home/viktor/jupyter/lib/python3.12/site-packages (from spacy<3.8.0,>=3.7.0->xx-ent-wiki-sm==3.7.0) (1.0.10)\n",
      "Requirement already satisfied: cymem<2.1.0,>=2.0.2 in /home/viktor/jupyter/lib/python3.12/site-packages (from spacy<3.8.0,>=3.7.0->xx-ent-wiki-sm==3.7.0) (2.0.8)\n",
      "Requirement already satisfied: preshed<3.1.0,>=3.0.2 in /home/viktor/jupyter/lib/python3.12/site-packages (from spacy<3.8.0,>=3.7.0->xx-ent-wiki-sm==3.7.0) (3.0.9)\n",
      "Requirement already satisfied: thinc<8.3.0,>=8.2.2 in /home/viktor/jupyter/lib/python3.12/site-packages (from spacy<3.8.0,>=3.7.0->xx-ent-wiki-sm==3.7.0) (8.2.5)\n",
      "Requirement already satisfied: wasabi<1.2.0,>=0.9.1 in /home/viktor/jupyter/lib/python3.12/site-packages (from spacy<3.8.0,>=3.7.0->xx-ent-wiki-sm==3.7.0) (1.1.3)\n",
      "Requirement already satisfied: srsly<3.0.0,>=2.4.3 in /home/viktor/jupyter/lib/python3.12/site-packages (from spacy<3.8.0,>=3.7.0->xx-ent-wiki-sm==3.7.0) (2.4.8)\n",
      "Requirement already satisfied: catalogue<2.1.0,>=2.0.6 in /home/viktor/jupyter/lib/python3.12/site-packages (from spacy<3.8.0,>=3.7.0->xx-ent-wiki-sm==3.7.0) (2.0.10)\n",
      "Requirement already satisfied: weasel<0.5.0,>=0.1.0 in /home/viktor/jupyter/lib/python3.12/site-packages (from spacy<3.8.0,>=3.7.0->xx-ent-wiki-sm==3.7.0) (0.4.1)\n",
      "Requirement already satisfied: typer<1.0.0,>=0.3.0 in /home/viktor/jupyter/lib/python3.12/site-packages (from spacy<3.8.0,>=3.7.0->xx-ent-wiki-sm==3.7.0) (0.12.4)\n",
      "Requirement already satisfied: tqdm<5.0.0,>=4.38.0 in /home/viktor/jupyter/lib/python3.12/site-packages (from spacy<3.8.0,>=3.7.0->xx-ent-wiki-sm==3.7.0) (4.67.1)\n",
      "Requirement already satisfied: requests<3.0.0,>=2.13.0 in /home/viktor/jupyter/lib/python3.12/site-packages (from spacy<3.8.0,>=3.7.0->xx-ent-wiki-sm==3.7.0) (2.32.3)\n",
      "Requirement already satisfied: pydantic!=1.8,!=1.8.1,<3.0.0,>=1.7.4 in /home/viktor/jupyter/lib/python3.12/site-packages (from spacy<3.8.0,>=3.7.0->xx-ent-wiki-sm==3.7.0) (2.8.2)\n",
      "Requirement already satisfied: jinja2 in /home/viktor/jupyter/lib/python3.12/site-packages (from spacy<3.8.0,>=3.7.0->xx-ent-wiki-sm==3.7.0) (3.1.4)\n",
      "Requirement already satisfied: setuptools in /home/viktor/jupyter/lib/python3.12/site-packages (from spacy<3.8.0,>=3.7.0->xx-ent-wiki-sm==3.7.0) (73.0.1)\n",
      "Requirement already satisfied: packaging>=20.0 in /home/viktor/jupyter/lib/python3.12/site-packages (from spacy<3.8.0,>=3.7.0->xx-ent-wiki-sm==3.7.0) (24.2)\n",
      "Requirement already satisfied: langcodes<4.0.0,>=3.2.0 in /home/viktor/jupyter/lib/python3.12/site-packages (from spacy<3.8.0,>=3.7.0->xx-ent-wiki-sm==3.7.0) (3.4.0)\n",
      "Requirement already satisfied: numpy>=1.19.0 in /home/viktor/jupyter/lib/python3.12/site-packages (from spacy<3.8.0,>=3.7.0->xx-ent-wiki-sm==3.7.0) (1.26.4)\n",
      "Requirement already satisfied: language-data>=1.2 in /home/viktor/jupyter/lib/python3.12/site-packages (from langcodes<4.0.0,>=3.2.0->spacy<3.8.0,>=3.7.0->xx-ent-wiki-sm==3.7.0) (1.2.0)\n",
      "Requirement already satisfied: annotated-types>=0.4.0 in /home/viktor/jupyter/lib/python3.12/site-packages (from pydantic!=1.8,!=1.8.1,<3.0.0,>=1.7.4->spacy<3.8.0,>=3.7.0->xx-ent-wiki-sm==3.7.0) (0.7.0)\n",
      "Requirement already satisfied: pydantic-core==2.20.1 in /home/viktor/jupyter/lib/python3.12/site-packages (from pydantic!=1.8,!=1.8.1,<3.0.0,>=1.7.4->spacy<3.8.0,>=3.7.0->xx-ent-wiki-sm==3.7.0) (2.20.1)\n",
      "Requirement already satisfied: typing-extensions>=4.6.1 in /home/viktor/jupyter/lib/python3.12/site-packages (from pydantic!=1.8,!=1.8.1,<3.0.0,>=1.7.4->spacy<3.8.0,>=3.7.0->xx-ent-wiki-sm==3.7.0) (4.12.2)\n",
      "Requirement already satisfied: charset-normalizer<4,>=2 in /home/viktor/jupyter/lib/python3.12/site-packages (from requests<3.0.0,>=2.13.0->spacy<3.8.0,>=3.7.0->xx-ent-wiki-sm==3.7.0) (3.4.0)\n",
      "Requirement already satisfied: idna<4,>=2.5 in /home/viktor/jupyter/lib/python3.12/site-packages (from requests<3.0.0,>=2.13.0->spacy<3.8.0,>=3.7.0->xx-ent-wiki-sm==3.7.0) (3.10)\n",
      "Requirement already satisfied: urllib3<3,>=1.21.1 in /home/viktor/jupyter/lib/python3.12/site-packages (from requests<3.0.0,>=2.13.0->spacy<3.8.0,>=3.7.0->xx-ent-wiki-sm==3.7.0) (2.2.3)\n",
      "Requirement already satisfied: certifi>=2017.4.17 in /home/viktor/jupyter/lib/python3.12/site-packages (from requests<3.0.0,>=2.13.0->spacy<3.8.0,>=3.7.0->xx-ent-wiki-sm==3.7.0) (2024.8.30)\n",
      "Requirement already satisfied: blis<0.8.0,>=0.7.8 in /home/viktor/jupyter/lib/python3.12/site-packages (from thinc<8.3.0,>=8.2.2->spacy<3.8.0,>=3.7.0->xx-ent-wiki-sm==3.7.0) (0.7.11)\n",
      "Requirement already satisfied: confection<1.0.0,>=0.0.1 in /home/viktor/jupyter/lib/python3.12/site-packages (from thinc<8.3.0,>=8.2.2->spacy<3.8.0,>=3.7.0->xx-ent-wiki-sm==3.7.0) (0.1.5)\n",
      "Requirement already satisfied: click>=8.0.0 in /home/viktor/jupyter/lib/python3.12/site-packages (from typer<1.0.0,>=0.3.0->spacy<3.8.0,>=3.7.0->xx-ent-wiki-sm==3.7.0) (8.1.7)\n",
      "Requirement already satisfied: shellingham>=1.3.0 in /home/viktor/jupyter/lib/python3.12/site-packages (from typer<1.0.0,>=0.3.0->spacy<3.8.0,>=3.7.0->xx-ent-wiki-sm==3.7.0) (1.5.4)\n",
      "Requirement already satisfied: rich>=10.11.0 in /home/viktor/jupyter/lib/python3.12/site-packages (from typer<1.0.0,>=0.3.0->spacy<3.8.0,>=3.7.0->xx-ent-wiki-sm==3.7.0) (13.7.1)\n",
      "Requirement already satisfied: cloudpathlib<1.0.0,>=0.7.0 in /home/viktor/jupyter/lib/python3.12/site-packages (from weasel<0.5.0,>=0.1.0->spacy<3.8.0,>=3.7.0->xx-ent-wiki-sm==3.7.0) (0.18.1)\n",
      "Requirement already satisfied: smart-open<8.0.0,>=5.2.1 in /home/viktor/jupyter/lib/python3.12/site-packages (from weasel<0.5.0,>=0.1.0->spacy<3.8.0,>=3.7.0->xx-ent-wiki-sm==3.7.0) (7.0.4)\n",
      "Requirement already satisfied: MarkupSafe>=2.0 in /home/viktor/jupyter/lib/python3.12/site-packages (from jinja2->spacy<3.8.0,>=3.7.0->xx-ent-wiki-sm==3.7.0) (2.1.5)\n",
      "Requirement already satisfied: marisa-trie>=0.7.7 in /home/viktor/jupyter/lib/python3.12/site-packages (from language-data>=1.2->langcodes<4.0.0,>=3.2.0->spacy<3.8.0,>=3.7.0->xx-ent-wiki-sm==3.7.0) (1.2.0)\n",
      "Requirement already satisfied: markdown-it-py>=2.2.0 in /home/viktor/jupyter/lib/python3.12/site-packages (from rich>=10.11.0->typer<1.0.0,>=0.3.0->spacy<3.8.0,>=3.7.0->xx-ent-wiki-sm==3.7.0) (3.0.0)\n",
      "Requirement already satisfied: pygments<3.0.0,>=2.13.0 in /home/viktor/jupyter/lib/python3.12/site-packages (from rich>=10.11.0->typer<1.0.0,>=0.3.0->spacy<3.8.0,>=3.7.0->xx-ent-wiki-sm==3.7.0) (2.18.0)\n",
      "Requirement already satisfied: wrapt in /home/viktor/jupyter/lib/python3.12/site-packages (from smart-open<8.0.0,>=5.2.1->weasel<0.5.0,>=0.1.0->spacy<3.8.0,>=3.7.0->xx-ent-wiki-sm==3.7.0) (1.16.0)\n",
      "Requirement already satisfied: mdurl~=0.1 in /home/viktor/jupyter/lib/python3.12/site-packages (from markdown-it-py>=2.2.0->rich>=10.11.0->typer<1.0.0,>=0.3.0->spacy<3.8.0,>=3.7.0->xx-ent-wiki-sm==3.7.0) (0.1.2)\n",
      "\u001b[38;5;2m✔ Download and installation successful\u001b[0m\n",
      "You can now load the package via spacy.load('xx_ent_wiki_sm')\n"
     ]
    }
   ],
   "source": [
    "!pip install numpy==1.26.4\n",
    "!python -m cupyx.tools.install_library --cuda 12.x --library cutensor\n",
    "!pip install cupy-cuda12x\n",
    "!pip install 'spacy[transformers]'\n",
    "# !python -m spacy download en_core_web_trf \n",
    "# !python -m spacy download cs_core_web_trf\n",
    "!python -m spacy download xx_ent_wiki_sm"
   ]
  },
  {
   "cell_type": "code",
   "execution_count": 4,
   "id": "cea07549-1b31-4cac-bbb3-5d262289801d",
   "metadata": {},
   "outputs": [],
   "source": [
    "import datasets\n",
    "import spacy\n",
    "import traceback\n",
    "from tqdm import tqdm\n",
    "from datasets import DatasetDict\n",
    "from spacy import displacy\n",
    "from spacy.tokens import Doc, DocBin\n",
    "from pathlib import Path"
   ]
  },
  {
   "cell_type": "markdown",
   "id": "381a0ed4-cd40-4427-b04e-dd1b8ed9d941",
   "metadata": {},
   "source": [
    "# Helper Functions"
   ]
  },
  {
   "cell_type": "markdown",
   "id": "babf9e5a-5ade-4b39-9f94-a4278c00893c",
   "metadata": {},
   "source": [
    "Loads a dataset and splits it to train, test and validation parts."
   ]
  },
  {
   "cell_type": "code",
   "execution_count": 5,
   "id": "f242dd0f-4434-48b0-b579-5e254db42cd3",
   "metadata": {},
   "outputs": [],
   "source": [
    "def load_and_split_ds(path, name, test_size=0.2):\n",
    "    ds = datasets.load_dataset(path, name)\n",
    "    ds_split_1 = ds['train'].train_test_split(test_size=test_size)\n",
    "\n",
    "    if 'validation' in ds:\n",
    "        return DatasetDict({\n",
    "            'train': ds_split_1['train'],\n",
    "            'test': ds_split_1['test'],\n",
    "            'validation': ds['validation']})\n",
    "    else:\n",
    "        ds_split_2 = ds_split_1['test'].train_test_split(test_size=0.5)\n",
    "        return DatasetDict({\n",
    "            'train': ds_split_1['train'],\n",
    "            'test': ds_split_2['test'],\n",
    "            'validation': ds_split_2['train']})"
   ]
  },
  {
   "cell_type": "markdown",
   "id": "1038f924-0ce7-4b78-91b2-72abc0245c57",
   "metadata": {},
   "source": [
    "Recongnises entities and visualizes the result using the specified model."
   ]
  },
  {
   "cell_type": "code",
   "execution_count": 6,
   "id": "bfa33dde-91d9-42b2-8e0e-d345e9d19887",
   "metadata": {},
   "outputs": [],
   "source": [
    "def visualize_entities(text, model):\n",
    "    displacy.render(model(text), style='ent', jupyter=True)"
   ]
  },
  {
   "cell_type": "markdown",
   "id": "9daaf66f-0943-4b08-b966-40081b92a425",
   "metadata": {},
   "source": [
    "Converters to the format for named entity regognition."
   ]
  },
  {
   "cell_type": "code",
   "execution_count": 7,
   "id": "566348c1-7195-49b4-b1e4-07e6965596cc",
   "metadata": {},
   "outputs": [],
   "source": [
    "def convert_row_to_ner_format(row):\n",
    "    \"\"\"\n",
    "    Converts a row of the data into a text, entity list format. \n",
    "    :return: The entity list contains the tuple of start and ending positions and the entity label.\n",
    "    \"\"\"\n",
    "    entities = []\n",
    "    for paragraph_anchor in row['paragraph_anchors']:\n",
    "        mapped_anchors = map(lambda key, value: (value.get('start'), value.get('end'), value.get('title')), paragraph_anchor)\n",
    "    data_point = {'text': row['paragraph_text'], 'entities': entities}\n",
    "    return data_point\n",
    "\n",
    "\n",
    "def convert_dataset_to_ner_format(dataset):\n",
    "    \"\"\"\n",
    "    Converts a dataset to NER format using dataset.map().\n",
    "    \"\"\"\n",
    "    # Use map to process the dataset\n",
    "    ner_dataset = dataset.map(convert_row_to_ner_format)\n",
    "    print(f\"ner_dataset[0]={ner_dataset[0]}\")\n",
    "    return ner_dataset"
   ]
  },
  {
   "cell_type": "markdown",
   "id": "2b2759dc-829f-4f07-b34e-0829ad3b40ad",
   "metadata": {},
   "source": [
    "Doc file creator for SpaCy."
   ]
  },
  {
   "cell_type": "code",
   "execution_count": 8,
   "id": "4f9c1fad-7968-4507-86e5-7c0ec0745cc8",
   "metadata": {},
   "outputs": [],
   "source": [
    "# def create_spacy_doc_bin_file(dataset, file_name, language):\n",
    "#     nlp = spacy.blank(language)\n",
    "#     db = DocBin()\n",
    "#     for i in tqdm(range(0, len(dataset))):\n",
    "#         datum = dataset[i]\n",
    "#         text = datum['text']\n",
    "#         doc = nlp(text)\n",
    "#         ents = []\n",
    "#         for start, end, label in datum.get('entities'):\n",
    "#             span = doc.char_span(start, end, label=label)\n",
    "#             ents.append(span)\n",
    "#         doc.ents = ents\n",
    "#         db.add(doc)\n",
    "#     db.to_disk(file_name)"
   ]
  },
  {
   "cell_type": "code",
   "execution_count": 9,
   "id": "d70e2a5b-9f57-4a4b-b1bc-db901aff8d18",
   "metadata": {},
   "outputs": [],
   "source": [
    "import spacy\n",
    "from spacy.tokens import DocBin\n",
    "from tqdm import tqdm\n",
    "\n",
    "def create_spacy_doc_bin_files(dataset, output_dir, file_name, language, chunk_size=500000):\n",
    "    \"\"\"\n",
    "    Create multiple SpaCy DocBin files to avoid loading the entire structure into memory.\n",
    "\n",
    "    Args:\n",
    "        dataset (list): A list of dictionaries containing text and entity information.\n",
    "        output_dir (str): Directory where the output files will be saved.\n",
    "        language (str): Language code for the SpaCy model (e.g., \"en\").\n",
    "        chunk_size (int): Number of documents to process in each file.\n",
    "    \"\"\"\n",
    "    import os\n",
    "    os.makedirs(output_dir, exist_ok=True)  # Ensure output directory exists\n",
    "\n",
    "    nlp = spacy.blank(language)\n",
    "    total_docs = len(dataset)\n",
    "    file_index = 0\n",
    "\n",
    "    for i in tqdm(range(0, total_docs, chunk_size)):\n",
    "        db = DocBin()\n",
    "        for j in range(i, min(i + chunk_size, total_docs)):\n",
    "            datum = dataset[j]\n",
    "            text = datum['text']\n",
    "            doc = nlp(text)\n",
    "            ents = []\n",
    "            for start, end, label in datum.get('entities', []):\n",
    "                span = doc.char_span(start, end, label=label)\n",
    "                if span is not None:\n",
    "                    ents.append(span)\n",
    "            doc.ents = ents\n",
    "            db.add(doc)\n",
    "        \n",
    "        # Save the chunk to a new file\n",
    "        output_file = os.path.join(output_dir, f'{file_name}{file_index + 1}.spacy')\n",
    "        db.to_disk(output_file)\n",
    "        file_index += 1\n"
   ]
  },
  {
   "cell_type": "markdown",
   "id": "45b52c05-7cae-42e5-bc94-abfe2bfb974c",
   "metadata": {},
   "source": [
    "# Load Datasets"
   ]
  },
  {
   "cell_type": "markdown",
   "id": "265de091-7f47-4d2e-870c-c4332b38137e",
   "metadata": {},
   "source": [
    "English"
   ]
  },
  {
   "cell_type": "code",
   "execution_count": 10,
   "id": "26f393f6-19fa-4c7b-ae36-c1be271814b5",
   "metadata": {
    "scrolled": true
   },
   "outputs": [
    {
     "data": {
      "application/vnd.jupyter.widget-view+json": {
       "model_id": "56cd3b4bfce84cbd9cdca0f469f47d28",
       "version_major": 2,
       "version_minor": 0
      },
      "text/plain": [
       "Loading dataset shards:   0%|          | 0/43 [00:00<?, ?it/s]"
      ]
     },
     "metadata": {},
     "output_type": "display_data"
    },
    {
     "data": {
      "text/plain": [
       "{'uuid': '4ac3fd5c-4c76-4780-8b5a-a95bac38d695',\n",
       " 'article_title': 'Boart_Longyear',\n",
       " 'article_pageid': 25956358,\n",
       " 'article_qid': 4931470,\n",
       " 'section_heading': '1920s to 1930s',\n",
       " 'section_level': 1,\n",
       " 'paragraph_text': 'By the 1920s, about half of the company\\'s drilling was outside the continental United States. Robert Longyear, Edmund\\'s son, became president of the firm in 1924, preserving the chain of family ownership and management that would continue for another 40 years. In 1929, Longyear sold almost US$1.5 million worth of drilling equipment to other drillers. The following year the company formed its first foreign subsidiary in Canada. The company also signed its first contract for work in Africa, sending equipment and a crew to provide drilling for copper ores. However, the stock market crash of October 1929 and the subsequent Great Depression reduced earnings to $79,000 in 1933. During the 1930s, Longyear took on a project drilling for core samples for the proposed Golden Gate Bridge in San Francisco. In spite of the financial crisis, the 1930s saw improvements in diamond drilling technology, including the use of industrial-quality diamonds mined in Africa that were called \"boarts\". In 1936, South Africa\\'s Anglo American Corporation formed Boart Products South Africa (Pty) Limited, which was later named Boart International. The new company developed the first mechanically-set diamond core bits, which were less expensive than the hand-set core bits that used more expensive Brazilian diamonds (carbonados).',\n",
       " 'paragraph_anchors': [{'start': 79,\n",
       "   'end': 92,\n",
       "   'qid': 30,\n",
       "   'pageid': 3434750,\n",
       "   'title': 'United_States'},\n",
       "  {'start': 423, 'end': 429, 'qid': 16, 'pageid': 5042916, 'title': 'Canada'},\n",
       "  {'start': 486, 'end': 492, 'qid': 15, 'pageid': 5334607, 'title': 'Africa'},\n",
       "  {'start': 547,\n",
       "   'end': 558,\n",
       "   'qid': 6613675,\n",
       "   'pageid': 31675922,\n",
       "   'title': 'Copper_ores'},\n",
       "  {'start': 573,\n",
       "   'end': 591,\n",
       "   'qid': 201684,\n",
       "   'pageid': 6102296,\n",
       "   'title': '1929_stock_market_crash'},\n",
       "  {'start': 627,\n",
       "   'end': 643,\n",
       "   'qid': 8698,\n",
       "   'pageid': 19283335,\n",
       "   'title': 'Great_Depression'},\n",
       "  {'start': 769,\n",
       "   'end': 787,\n",
       "   'qid': 44440,\n",
       "   'pageid': 12103,\n",
       "   'title': 'Golden_Gate_Bridge'},\n",
       "  {'start': 791,\n",
       "   'end': 804,\n",
       "   'qid': 62,\n",
       "   'pageid': 49728,\n",
       "   'title': 'San_Francisco'},\n",
       "  {'start': 1015,\n",
       "   'end': 1041,\n",
       "   'qid': 541451,\n",
       "   'pageid': 1344523,\n",
       "   'title': 'Anglo_American_plc'},\n",
       "  {'start': 1286, 'end': 1295, 'qid': 155, 'pageid': 3383, 'title': 'Brazil'}]}"
      ]
     },
     "execution_count": 10,
     "metadata": {},
     "output_type": "execute_result"
    }
   ],
   "source": [
    "#en_ds = load_and_split_ds('wikimedia/wikipedia', '20231101.en')\n",
    "en_ds = load_and_split_ds('cyanic-selkie/wikianc', 'en')\n",
    "en_ds['train'][0]"
   ]
  },
  {
   "cell_type": "markdown",
   "id": "9c54c8bf-93cd-4690-ab13-4bdaf509429d",
   "metadata": {},
   "source": [
    "Czech"
   ]
  },
  {
   "cell_type": "code",
   "execution_count": 11,
   "id": "0dccaa01-275b-481a-8a9f-e01120141e43",
   "metadata": {},
   "outputs": [],
   "source": [
    "# cs_ds = load_and_split_ds('wikimedia/wikipedia', '20231101.cs')\n",
    "# cs_ds['train'][0]"
   ]
  },
  {
   "cell_type": "markdown",
   "id": "b4e4b340-fcb2-4d8c-8720-1dc6ff100e7f",
   "metadata": {},
   "source": [
    "Hungarian"
   ]
  },
  {
   "cell_type": "code",
   "execution_count": 12,
   "id": "6506ebf7-e2dc-4bb0-99db-93367b08c500",
   "metadata": {},
   "outputs": [],
   "source": [
    "# hu_ds = load_and_split_ds('wikimedia/wikipedia', '20231101.hu')\n",
    "# hu_ds['train'][0]"
   ]
  },
  {
   "cell_type": "markdown",
   "id": "9962125c-c518-4ab7-ba9d-1a10eb930172",
   "metadata": {},
   "source": [
    "Ukrainian"
   ]
  },
  {
   "cell_type": "code",
   "execution_count": 13,
   "id": "2869a1cd-eebb-463f-be74-03537d059904",
   "metadata": {},
   "outputs": [],
   "source": [
    "# en_uk = load_and_split_ds('wikimedia/wikipedia', '20231101.uk')\n",
    "# en_uk['train'][0]"
   ]
  },
  {
   "cell_type": "markdown",
   "id": "f8f62b7b-7b72-4852-b652-c27bb67d17e8",
   "metadata": {},
   "source": [
    "# SpaCy Built-In Entity Types\n",
    "<!-- - **PERSON** - People, including fictional.\n",
    "- **NORP** - Nationalities or religious or political groups.\n",
    "- **FAC** - Buildings, airports, highways, bridges, etc.\n",
    "- **ORG** - Companies, agencies, institutions, etc.\n",
    "- **GPE** - Countries, cities, states.\n",
    "- **LOC** - Non-GPE locations, mountain ranges, bodies of water.\n",
    "- **PRODUCT** - Objects, vehicles, foods, etc. (Not services.)\n",
    "- **EVENT** - Named hurricanes, battles, wars, sports events, etc.\n",
    "- **WORK_OF_ART** - Titles of books, songs, etc.\n",
    "- **LAW** - Named documents made into laws.\n",
    "- **LANGUAGE** - Any named language.\n",
    "- **DATE** - Absolute or relative dates or periods.\n",
    "- **TIME** - Times smaller than a day.\n",
    "- **PERCENT** - Percentage, including \"%\".\n",
    "- **MONEY** - Monetary values, including unit.\n",
    "- **QUANTITY** - Measurements, as of weight or distance.\n",
    "- **ORDINAL** - \"first\", \"second\", etc.\n",
    "- **CARDINAL** - Numerals that do not fall under another type.-->\n",
    "- **LOC** - Countries, cities, states, mountain ranges, bodies of water.\n",
    "- **ORG** - Companies, agencies, institutions, etc.\n",
    "- **PER** - People, including fictional.\n",
    "- **MISC** - Other categories."
   ]
  },
  {
   "cell_type": "markdown",
   "id": "a47d87fb-432f-4fbd-b8a2-886c7f4b0fa7",
   "metadata": {},
   "source": [
    "# SpaCy Transformers off the Shelf Model"
   ]
  },
  {
   "cell_type": "markdown",
   "id": "5166703d-6d39-4130-9bdc-7f7d25005a47",
   "metadata": {},
   "source": [
    "## English"
   ]
  },
  {
   "cell_type": "markdown",
   "id": "6a377b76-e050-49fe-ae08-7cc60088c484",
   "metadata": {},
   "source": [
    "Sample text for testing."
   ]
  },
  {
   "cell_type": "code",
   "execution_count": 14,
   "id": "f9ae41aa-9e07-4917-a95c-e5b81b2f5ce1",
   "metadata": {},
   "outputs": [],
   "source": [
    "en_text = \"\"\"\n",
    "World War II[b] or the Second World War (1 September 1939 – 2 September 1945) was a global conflict between two coalitions: the Allies and the Axis powers. Nearly all the world's countries—including all the great powers—participated, with many investing all available economic, industrial, and scientific capabilities in pursuit of total war, blurring the distinction between military and civilian resources. Tanks and aircraft played major roles, with the latter enabling the strategic bombing of population centres and delivery of the only two nuclear weapons ever used in war. World War II was the deadliest conflict in history, resulting in 70 to 85 million deaths, more than half being civilians. Millions died in genocides, including the Holocaust of European Jews, as well as from massacres, starvation, and disease. Following the Allied powers' victory, Germany, Austria, Japan, and Korea were occupied, and war crimes tribunals were conducted against German and Japanese leaders.\n",
    "The causes of World War II included unresolved tensions in the aftermath of World War I and the rise of fascism in Europe and militarism in Japan. Key events leading up to the war included Japan's invasion of Manchuria, the Spanish Civil War, the outbreak of the Second Sino-Japanese War, and Germany's annexations of Austria and the Sudetenland. World War II is generally considered to have begun on 1 September 1939, when Nazi Germany, under Adolf Hitler, invaded Poland, prompting the United Kingdom and France to declare war on Germany. Poland was divided between Germany and the Soviet Union under the Molotov–Ribbentrop Pact, in which they had agreed on \"spheres of influence\" in Eastern Europe. In 1940, the Soviets annexed the Baltic states and parts of Finland and Romania. After the fall of France in June 1940, the war continued mainly between Germany and the British Empire, with fighting in the Balkans, Mediterranean, and Middle East, the aerial Battle of Britain and the Blitz, and naval Battle of the Atlantic. Through a series of campaigns and treaties, Germany took control of much of continental Europe and formed the Axis alliance with Italy, Japan, and other countries. In June 1941, Germany led the European Axis in an invasion of the Soviet Union, opening the Eastern Front and initially making large territorial gains.\n",
    "Japan aimed to dominate East Asia and the Asia-Pacific, and by 1937 was at war with the Republic of China. In December 1941, Japan attacked American and British territories in Southeast Asia and the Central Pacific, including Pearl Harbor in Hawaii, which resulted in the US and the UK declaring war against Japan, and the European Axis declaring war on the US. Japan conquered much of coastal China and Southeast Asia, but its advances in the Pacific were halted in mid-1942 after its defeat in the naval Battle of Midway; Germany and Italy were defeated in North Africa and at Stalingrad in the Soviet Union. Key setbacks in 1943—including German defeats on the Eastern Front, the Allied invasions of Sicily and the Italian mainland, and Allied offensives in the Pacific—cost the Axis powers their initiative and forced them into strategic retreat on all fronts. In 1944, the Western Allies invaded German-occupied France at Normandy, while the Soviet Union regained its territorial losses and pushed Germany and its allies westward. At the same time, Japan suffered reversals in mainland Asia, while the Allies crippled the Japanese Navy and captured key islands.\n",
    "The war in Europe concluded with the liberation of German-occupied territories; the invasion of Germany by the Western Allies and the Soviet Union, culminating in the fall of Berlin to Soviet troops; Hitler's suicide; and the German unconditional surrender on 8 May 1945. Following the refusal of Japan to surrender on the terms of the Potsdam Declaration, the US dropped the first atomic bombs on Hiroshima and Nagasaki on 6 and 9 August. Faced with an imminent invasion of the Japanese archipelago, the possibility of further atomic bombings, and the Soviet declaration of war against Japan and its invasion of Manchuria, Japan announced its unconditional surrender on 15 August and signed a surrender document on 2 September 1945, marking the end of the war.\n",
    "World War II changed the political alignment and social structure of the world, and it set the foundation of international relations for the rest of the 20th century and into the 21st century. The United Nations was established to foster international cooperation and prevent conflicts, with the victorious great powers—China, France, the Soviet Union, the UK, and the US—becoming the permanent members of its security council. The Soviet Union and the United States emerged as rival superpowers, setting the stage for the Cold War. In the wake of European devastation, the influence of its great powers waned, triggering the decolonisation of Africa and Asia. Most countries whose industries had been damaged moved towards economic recovery and expansion.\n",
    "\"\"\""
   ]
  },
  {
   "cell_type": "markdown",
   "id": "db69678c-3a67-4378-bffd-5c0d29d84eda",
   "metadata": {},
   "source": [
    "Testing the off the shelf model."
   ]
  },
  {
   "cell_type": "code",
   "execution_count": 15,
   "id": "0f43d267-b6a4-439d-bbbc-e62963790d86",
   "metadata": {},
   "outputs": [],
   "source": [
    "# visualize_entities(en_text, spacy.load('xx_ent_wiki_sm'))"
   ]
  },
  {
   "cell_type": "markdown",
   "id": "657e0c75-b497-4af2-9ebc-8821938a4e1c",
   "metadata": {},
   "source": [
    "## Czech"
   ]
  },
  {
   "cell_type": "code",
   "execution_count": 16,
   "id": "050fe83e-3c43-4252-80b2-cf7c240c1302",
   "metadata": {},
   "outputs": [],
   "source": [
    "# cs_text = \"\"\"\n",
    "# Druhá světová válka byl globální vojenský konflikt v letech 1939–1945, jehož se zúčastnila většina států světa. Tento konflikt se stal s více než 62 miliony obětí na životech dosud největším a nejvíce zničujícím válečným střetnutím v dějinách lidstva.\n",
    "# Brzy po okupaci zbytku Československa 15. března 1939 vypukla válka v Evropě. Začala dne 1. září 1939, když nacistické Německo přepadlo Polsko. Krátce poté vyhlásily Francie, Spojené království a státy Commonwealthu Německu válku. 17. září napadl Polsko i Sovětský svaz (SSSR). Německé invazi do Polska předcházela jeho smlouva o neútočení se SSSR, takzvaný pakt Ribbentrop–Molotov, podepsaná 23. srpna 1939. V tajném protokolu k tomuto paktu si tyto dva státy dočasně rozdělily sféry vlivu tzv. demarkační Curzonovu linii. Byla vytyčena v roce 1919 mezi druhou polskou republikou a Sovětským svazem, dvěma novými státy, které vznikly po první světové válce. Curzonova linie vznikla jako diplomatický podklad pro budoucí dohodu o hranicích. Vytyčila ji Rada Dohody podle usnesení z 8. prosince 1919. V důsledku toho byl de facto uvolněn prostor pro vojenskou expanzi obou stran. Ze strany Německa byl na části území Polska až k demarkační linii vytvořen Generalgouvernement – jako správní jednotka utvořená 26.10.1939 na základě Hitlerova dekretu, která zahrnovala část okupovaného území původního meziválečného Polska, které nebylo začleněno do Třetí říše (vojvodství Kielecké, Krakovské, Lublinské, část Lodžského a Varšavského). Sídlem správy byl Krakov. V čele Generálního gouvernementu stál válečný zločinec Hans Frank, pod jehož vedením docházelo k brutálnímu útisku a cílenému vyhlazování nejen polského, ale i židovského obyvatelstva v Polsku.\n",
    "# Blesková válka na západě Evropy začala dne 10. května 1940, kdy německý Wehrmacht na rozkaz Adolfa Hitlera překročil hranice Belgie, Nizozemska a Lucemburska, a poté obešel obrannou Maginotovu linii. Po rychlé porážce francouzské armády vstoupila německá vojska 14. června do Paříže. Francie kapitulovala 22. června 1940 a do listopadu 1942 německá armáda postupně obsadila celou zemi.\n",
    "# Sovětský svaz se stal jedním ze Spojenců druhé světové války proti Ose Berlín–Řím–Tokio poté, co nacistické Německo zahájilo dne 22. června 1941 proti němu rozsáhlou a ničivou operaci Barbarossa. Zprvu musela Rudá armáda ustupovat až k Moskvě. Po urputných bojích, např. v bitvě u Stalingradu (podzim 1942 – zima 1943), o Kurský oblouk, či obležení Leningradu (dnešní Petrohrad) atd., začala sovětská vojska zatlačovat Wehrmacht západním směrem a dne 2. května 1945 dobyla Berlín.\n",
    "# Dne 7. července 1937 se udál incident na mostě Marca Pola v Pekingu. Tímto relativně malým vojenským střetnutím de facto vznikla druhá čínsko-japonská válka, zprvu bez formálního válečného stavu mezi Japonským císařstvím a Čínskou republikou. Japonsko poté pokračovalo ve své rozsáhlé expanzi proti čínským územím, pak přepadlo a dobylo řadu zemí v jihovýchodní Asii. Dne 7. prosince 1941 zaútočila letadla z japonských letadlových lodí na americkou námořní základnu Pearl Harbor na Havajských ostrovech. Den poté vstoupily Spojené státy americké do války proti Japonsku. Teprve 9. prosince 1941 vyhlásila čínská vláda oficiálně Japonsku válku.[1] 11. prosince 1941 vyhlásily nacistické Německo a Itálie válku Spojeným státům, čímž byl utvrzen stav globálního konfliktu.\n",
    "# Konec války v Evropě nastal 8. května 1945 bezpodmínečnou kapitulací Německa. Po americkém svržení atomových bomb ve dnech 6. a 9. srpna 1945 na města Hirošima a Nagasaki kapitulovalo Japonsko 2. září 1945.\n",
    "# Příčiny války bývají hledány v důsledcích ideologií a politických směrů, jako jsou nacionalismus a imperialismus. Podle některých historiků byla jednou z hlavních příčin nespokojenost vládnoucích kruhů Německa s dopady Versailleské smlouvy, která měla prohloubit pocit ponížení po prohrané první světové válce, a v následcích velké hospodářské krize na přelomu dvacátých a třicátých let. Tyto vlivy zásadním způsobem oslabily mnoho evropských států, čímž umožnily vzestup nacismu a italského fašismu.\n",
    "# Druhou světovou válku provázely v dosud nevídané míře válečné zločiny, zločiny proti lidskosti a nehumánní zacházení s válečnými zajatci, zvláště se sovětskými vojáky ze strany Německa. Průběhem bojů bylo podstatně zasaženo rovněž civilní obyvatelstvo, jež utrpělo obrovské ztráty. Nejhorším příkladem genocidy se stal holokaust (šoa), kterému na základě nacistické rasové ideologie padlo za oběť šest milionů Židů v koncentračních táborech a na jiných místech v mnoha zemích Evropy. Masakr čínského obyvatelstva, který spáchali Japonci v Nankingu v prosinci 1937, byl jedním z největších zločinů. V rámci operace Intelligenzaktion v roce 1939 zavraždili němečtí nacisté 60 000 až 100 000 příslušníků polské inteligence, důstojníků a představitelů měst i státu. V roce 1940 provedla sovětská NKVD tzv. katyňský masakr, při kterém bylo povražděno přibližně 22 000 polských důstojníků a příslušníků inteligence. Milionové oběti utrpělo slovanské civilní obyvatelstvo – Rusové, Ukrajinci, Bělorusové, Poláci a jiní – na územích východní fronty, kde ztratilo životy osm milionů lidí. Ti podléhali nemocem a hladu vyvolaným válečnými operacemi a masakrům páchaným na územích obsazených Wehrmachtem a jednotkami Waffen-SS.\n",
    "# Válečné úsilí pohlcovalo téměř veškerý lidský, ekonomický, průmyslový a vědecký potenciál všech zúčastněných národů. Mnoho států utrpělo nepředstavitelné materiální ztráty a devastaci svého kulturního dědictví. Lze proto hovořit o tom, že se jednalo o totální válku. Téměř všechny zúčastněné strany se v menší či větší míře odchylovaly od požadavku vést válku „civilizovanými metodami“. I když Spojené království v roce 1940 odmítalo plošné nálety na nepřátelská města, posléze se k nim spolu se Spojenými státy samo uchýlilo.\n",
    "# V samotném závěru světové války byla ustavena Organizace spojených národů, jejímž ústředním cílem byla a je i v současnosti prevence vzniku dalších válečných konfliktů. Po skončení války upevnily vítězné mocnosti USA a SSSR své postavení dvou světových supervelmocí. Jejich stále větší vzájemný antagonismus vedl k bipolárnímu rozdělení světa a k počátku studené války. První generální tajemník Komunistické strany Sovětského svazu Josif Stalin spustil napříč evropským kontinentem tzv. železnou oponu, která od sebe oddělila západní svět a státy ve Východní Evropě, především z obavy vojenského obsazení zemí Východní Evropy. Vedlejším efektem války byl také vzrůst požadavků na právo na sebeurčení mezi národy ovládanými koloniálními mocnostmi, což vedlo k akceleraci dekolonizačních hnutí v Asii a v Africe.\n",
    "# Jednalo se o nejrozsáhlejší válku v dějinách, které se přímo účastnilo více než 100 milionů lidí z více než 30 zemí. Ve stavu totální války vrhli hlavní účastníci do válečného úsilí veškeré své hospodářské, průmyslové a vědecké kapacity, čímž se smazaly rozdíly mezi civilním a vojenským obyvatelstvem. \n",
    "# \"\"\""
   ]
  },
  {
   "cell_type": "code",
   "execution_count": 17,
   "id": "ee522c0c-f9af-4115-9090-0203afadde84",
   "metadata": {},
   "outputs": [],
   "source": [
    "# visualize_entities(cs_text, spacy.load('xx_ent_wiki_sm'))"
   ]
  },
  {
   "cell_type": "markdown",
   "id": "ad4a050d-7e61-4110-880e-b7b553bddaad",
   "metadata": {},
   "source": [
    "## Hungarian"
   ]
  },
  {
   "cell_type": "code",
   "execution_count": 18,
   "id": "b1744ac1-b3ea-4b43-b02c-d7a236542fef",
   "metadata": {},
   "outputs": [],
   "source": [
    "# hu_text = \"\"\"\n",
    "# A második világháború az emberiség történetének legnagyobb[1] és legtöbb halálos áldozattal járó[2] fegyveres konfliktusa. A legelterjedtebb álláspont szerint kezdete az 1939. szeptember 1-jei, Lengyelország elleni német támadáshoz köthető. A háborút azonban egyesek már 1937. július 7-től számítják, amikor kitört a második kínai–japán háború.[3][4][5][6] A történelemtudósok egy része szerint ugyanakkor ezen két távol-keleti ország katonai konfliktusa még nem terjedt ki a világ több pontjára, így az helyi jellegűnek értelmezhető és a világháború szoros előzményének tekinthető. A háború Európában 1945. május 8-án Németország, míg Ázsiában szeptember 2-án Japán feltétel nélküli megadásával fejeződött be.\n",
    "# A világháborúban a szövetségesek és a tengelyhatalmak álltak egymással szemben. Kezdetben javarészt a tengelyhatalmak győzedelmeskedtek a csatákban, majd 1942-től mind a kelet-európai, mind a csendes-óceáni, mind az afrikai fronton a szövetségesek törtek előre, és végül a tengelyhatalmak teljes vereséget szenvedtek.\n",
    "# Az európai, ázsiai és afrikai földrészen vívott harcokban közel hetven nemzet vett részt, ennek következtében több mint 73 millióan vesztették életüket, beleértve a megölt civileket és az elesett katonákat is. A háború kitöréséhez nagyban hozzájárult az első világháború után, a Párizs környéki békeszerződésekkel (versailles-i békeszerződés; trianoni békeszerződés; saint-germaini békeszerződés; sèvres-i békeszerződés) kialakított világpolitikai helyzet.\n",
    "# A világháborút végigkísérték mindkét tömb részéről a civil lakosság és a hadifoglyok elleni erőszakos cselekmények. A megszállt területeken a hadviselő felek rendre terrorizálták a helyi lakosságot, melyek közül kiemelkednek a japánok által Kínában és Mandzsúriában, a németek által az elfoglalt szovjet területeken és a szovjetek által Kelet-Európában elkövetett visszaélések. A nyugati szövetségesek terrorbombázásokat hajtottak végre Németország és Japán ellen, melyek sokszor rengeteg halálos áldozattal jártak, mint Drezda, Hamburg és Tokió(wd) esetében. A világháború végén két atombombát dobtak Japánra, ami több százezer ember szörnyű halálát eredményezte. A világháború során több népirtás is történt, de az áldozatok számát és az elkövetés módszerét illetően kiemelkedik a több millió zsidó származású ember életét követelő holokauszt. A világégés után a győztesek Európában a nürnbergi perben, míg a Távol-Keleten a tokiói perben háborús bűnösnek ítéltek német és japán vezetőket.\n",
    "# A világháborút a hadviselő felek többsége számára lezáró párizsi békét 1947-ben kötötték meg. Európa térképét átrajzolták, a Szovjetunió jelentős területeket szerzett. Lengyelország határait nyugatabbra tolták, és cserébe német területekkel kárpótolták az országot. A háború után megromlott a két korábbi szövetséges, a Szovjetunió és az Amerikai Egyesült Államok viszonya, és egy új világméretű konfliktus, a hidegháború korszaka kezdődött el.\n",
    "# Az 1914–1945 közötti időszakot egyesek a második harmincéves háború időszakának nevezik. Már 1946-ban Charles de Gaulle úgy nyilatkozott: „A mi győzelmünkkel végződött harmincéves háború drámája számos váratlan eseményt foglalt magában”.[7] Erről a teóriáról írt Sigmund Neumann könyvében,[8][9] szerinte az első harmincéves háborúhoz hasonlóan a 20. század eleji nagy háború is több kisebb konfliktus eredménye. Hasonló szemléletben írt könyvet Ravasz István is.\n",
    "# \"\"\""
   ]
  },
  {
   "cell_type": "code",
   "execution_count": 19,
   "id": "d9d5f100-6084-4c16-8063-8a135ce5b0df",
   "metadata": {},
   "outputs": [],
   "source": [
    "# visualize_entities(hu_text, spacy.load('xx_ent_wiki_sm'))"
   ]
  },
  {
   "cell_type": "markdown",
   "id": "77d44b24-6ed2-4698-b998-4e7114f2db24",
   "metadata": {},
   "source": [
    "## Ukrainian"
   ]
  },
  {
   "cell_type": "code",
   "execution_count": 20,
   "id": "ec724027-c3cb-498a-8ee8-c0dd29d557ad",
   "metadata": {},
   "outputs": [],
   "source": [
    "# uk_text = \"\"\"\n",
    "# Друга світова війна — глобальний збройний конфлікт, що тривав від 1 вересня 1939 року до 2 вересня 1945 року. У війні взяло участь понад 60 країн, зокрема всі великі держави, які утворили два протилежні військові табори: блок країн Осі та антигітлерівську коаліцію («союзники»). Безпосередню участь у бойових діях брали понад 100 мільйонів осіб. Супротивні держави кинули всі економічні, промислові та наукові можливості на потреби фронту, стираючи різницю між цивільними та військовими ресурсами. Загальні людські втрати коливаються між 50 й 80 мільйонами осіб, більшість із яких були мешканцями Радянського Союзу та Китаю. Друга світова війна відзначилася численними масовими вбивствами і злочинами проти людяності, насамперед Голокостом, стратегічними килимовими бомбардуваннями та єдиним в історії військовим застосуванням ядерної зброї.\n",
    "# Основними причинами війни стали політичні суперечності, породжені недосконалою Версальською системою, та агресивна експансіоністська політика нацистської Німеччини, Японської імперії та Італії. 1 вересня 1939 року гітлерівські війська вторглися в Польщу. 3 вересня Велика Британія та Франція оголосили Німеччині війну. Упродовж 1939—1941 років завдяки серії успішних військових кампаній та низки дипломатичних заходів Німеччина захопила більшу частину континентальної Європи. Саме тоді й Радянський Союз анексував (повністю або частково) території сусідніх європейських держав: Польщі, Румунії, Фінляндії та країн Балтії, що відійшли до його сфери впливу на підставі Пакту Молотова — Ріббентропа. Після початку бойових дій у Північній Африці та падіння Франції в середині 1940 року війна тривала насамперед між країнами Осі та Великою Британією, повітряні сили якої зуміли відбити німецькі повітряні атаки. У цей же час бойові дії поширились на Балканський півострів та Атлантичний океан. Японія окупувала частину Китаю та Південно-Східної Азії, взявши під контроль важливі джерела сировини.\n",
    "# 22 червня 1941 року війська країн Осі чисельністю 3.5 мільйонів осіб вторглися в Радянський Союз, маючи на меті завоювання «життєвого простору» в Східній Європі. Відкривши найбільший в історії сухопутний фронт, німецькі війська спершу доволі швидко окупували західні регіони СРСР, однак в битві за Москву зазнали поразки. В цей же час Японія віроломно напала на США та підкорила західну частину Тихого океану. Задля протистояння агресії країн Осі створено Антигітлерівську коаліцію 26 країн, в окупованих країнах розгорнувся рух опору. У лютому 1943 радянська армія здобула перемогу під Сталінградом. У Північній Африці німецькі та італійські війська зазнали поразки під Ель-Аламейном. Просування Японії зупинили сили американців і австралійців у битві за Мідвей. У 1943 році після низки військових невдач Гітлера на Східному фронті, висадки союзників у Сицилії та Італії, що призвело до капітуляції останньої, і перемог США на Тихому океані, країни Осі втратили ініціативу та перейшли до стратегічного відступу на всіх фронтах. У 1944 році армії західних альянтів визволили Західну та Центральну Європу, у той час як радянські війська вигнали війська Німеччини та окупантів з власної території та країн Східної й Південно-Східної Європи.\n",
    "# Протягом 1944 та 1945 років Японія зазнала великих втрат у материковій Азії, у Південному Китаї та Бірмі; союзники знищили японський флот і заволоділи ключовими островами в західній частині Тихого океану. Німеччина опинилася в щільному кільці. До кінця квітня 1945 року радянські війська заволоділи значною частиною її території, зокрема й Берліном; Адольф Гітлер вчинив самогубство. 8 травня керівництво Вермахту підписало Акт про беззастережну капітуляцію. Ця дата вважається Днем перемоги над нацизмом в Європі. Після опублікування 26 липня 1945 Потсдамської декларації та відмови Японії капітулювати на її умовах США скинули атомні бомби на міста Хіросіму і Нагасакі 6 і 9 серпня відповідно. У серпні 1945 Радянський Союз розгорнув бойові дії проти Японії. Неминуче вторгнення американців на японський архіпелаг, а також можливість інших атомних бомбардувань змусили керівництво цієї острівної країни здатися. Акт про капітуляцію Японії підписали 2 вересня 1945 року на борту лінкора «Міссурі». Війна в Азії закінчилась, закріпивши загальну перемогу Антигітлерівської коаліції.\n",
    "# Друга світова стала наймасштабнішою та найкривавішою війною в історії людства, великим переламом XX століття, що докорінно змінив політичну карту і соціальну структуру світу. Для сприяння розвитку міжнародного співробітництва та запобігання майбутнім конфліктам створено Організацію Об'єднаних Націй. Післявоєнний порядок утвердив гегемонію Сполучених Штатів і Радянського Союзу, суперництво яких призвело до утворення капіталістичного й соціалістичного таборів та початку Холодної війни. Світовий вплив європейських держав значно ослаб, почався процес деколонізації Азії та Африки. Перед країнами, чиї галузі економіки були знищені, гостро стояла проблема їхнього відновлення. У Європі поряд з цим постало питання європейської інтеграції як способу подолання ворожнечі й створення спільної ідентичності. \n",
    "# \"\"\""
   ]
  },
  {
   "cell_type": "code",
   "execution_count": 21,
   "id": "2560ef4b-2263-417a-96c4-fabf3e739b2b",
   "metadata": {},
   "outputs": [],
   "source": [
    "# visualize_entities(uk_text, spacy.load('xx_ent_wiki_sm'))"
   ]
  },
  {
   "cell_type": "markdown",
   "id": "1dd5dce3-fded-49ea-b8b8-af709689ae12",
   "metadata": {},
   "source": [
    "# Training Model"
   ]
  },
  {
   "cell_type": "markdown",
   "id": "9a3915fe-30b6-47b2-aac3-aba5bd211a04",
   "metadata": {},
   "source": [
    "## Config Cration"
   ]
  },
  {
   "cell_type": "code",
   "execution_count": 22,
   "id": "d2cb2641-212a-490a-b6ad-75c55823df8f",
   "metadata": {
    "scrolled": true
   },
   "outputs": [
    {
     "name": "stdout",
     "output_type": "stream",
     "text": [
      "/home/viktor/jupyter/lib/python3.12/site-packages/transformers/utils/generic.py:441: FutureWarning: `torch.utils._pytree._register_pytree_node` is deprecated. Please use `torch.utils._pytree.register_pytree_node` instead.\n",
      "  _torch_pytree._register_pytree_node(\n",
      "/home/viktor/jupyter/lib/python3.12/site-packages/transformers/utils/generic.py:309: FutureWarning: `torch.utils._pytree._register_pytree_node` is deprecated. Please use `torch.utils._pytree.register_pytree_node` instead.\n",
      "  _torch_pytree._register_pytree_node(\n",
      "\u001b[38;5;2m✔ Auto-filled config with all values\u001b[0m\n",
      "\u001b[38;5;2m✔ Saved config\u001b[0m\n",
      "config.cfg\n",
      "You can now add your data and train your pipeline:\n",
      "python -m spacy train config.cfg --paths.train ./train.spacy --paths.dev ./dev.spacy\n"
     ]
    }
   ],
   "source": [
    "!python -m spacy init fill-config base_config.cfg config.cfg"
   ]
  },
  {
   "cell_type": "markdown",
   "id": "9110b6c1-269f-486a-be12-cdf45446b691",
   "metadata": {},
   "source": [
    "## Document Files Initialization"
   ]
  },
  {
   "cell_type": "code",
   "execution_count": 23,
   "id": "dacd7699-f182-4df6-af40-d03aec51f880",
   "metadata": {},
   "outputs": [
    {
     "data": {
      "application/vnd.jupyter.widget-view+json": {
       "model_id": "56dde39b2de34c43b46848fbbe17fec7",
       "version_major": 2,
       "version_minor": 0
      },
      "text/plain": [
       "Map:   0%|          | 0/32525205 [00:00<?, ? examples/s]"
      ]
     },
     "metadata": {},
     "output_type": "display_data"
    },
    {
     "name": "stdout",
     "output_type": "stream",
     "text": [
      "ner_dataset[0]={'uuid': 'f77a31d5-1447-4fa8-b281-0290a8d5e4e3', 'article_title': 'Qapanvari', 'article_pageid': 34183648, 'article_qid': 6556044, 'section_heading': None, 'section_level': 0, 'paragraph_text': 'Qapanvari (, also Romanized as Qapānvarī and Qapānwari) is a village in Darreh Seydi Rural District, in the Central District of Borujerd County, Lorestan Province, Iran. At the 2006 census, its population was 266, spread among 67 families.', 'paragraph_anchors': [{'start': 18, 'end': 27, 'qid': 976327, 'pageid': 173536, 'title': 'Romanize'}, {'start': 72, 'end': 99, 'qid': 5224520, 'pageid': 34080864, 'title': 'Darreh_Seydi_Rural_District'}, {'start': 108, 'end': 124, 'qid': 5060761, 'pageid': 33026501, 'title': 'Central_District_(Borujerd_County)'}, {'start': 128, 'end': 143, 'qid': 1286028, 'pageid': 7349516, 'title': 'Borujerd_County'}, {'start': 145, 'end': 162, 'qid': 1131727, 'pageid': 69969415, 'title': 'Lorestan_Province'}, {'start': 164, 'end': 168, 'qid': 794, 'pageid': 14653, 'title': 'Iran'}], 'text': 'Qapanvari (, also Romanized as Qapānvarī and Qapānwari) is a village in Darreh Seydi Rural District, in the Central District of Borujerd County, Lorestan Province, Iran. At the 2006 census, its population was 266, spread among 67 families.', 'entities': []}\n"
     ]
    },
    {
     "name": "stderr",
     "output_type": "stream",
     "text": [
      "/home/viktor/jupyter/lib/python3.12/site-packages/transformers/utils/generic.py:441: FutureWarning: `torch.utils._pytree._register_pytree_node` is deprecated. Please use `torch.utils._pytree.register_pytree_node` instead.\n",
      "  _torch_pytree._register_pytree_node(\n",
      "/home/viktor/jupyter/lib/python3.12/site-packages/transformers/utils/generic.py:309: FutureWarning: `torch.utils._pytree._register_pytree_node` is deprecated. Please use `torch.utils._pytree.register_pytree_node` instead.\n",
      "  _torch_pytree._register_pytree_node(\n",
      "100%|█████████████████████████████████████████████████████████████████████████████████████████████████████████████████████| 66/66 [2:40:06<00:00, 145.55s/it]\n"
     ]
    }
   ],
   "source": [
    "train_ner = convert_dataset_to_ner_format(en_ds['train'])\n",
    "create_spacy_doc_bin_files(dataset=train_ner, file_name='train', output_dir='./train', language='xx')"
   ]
  },
  {
   "cell_type": "code",
   "execution_count": 24,
   "id": "486e0d99-8614-44c6-82c8-78633c98f2b5",
   "metadata": {},
   "outputs": [
    {
     "data": {
      "application/vnd.jupyter.widget-view+json": {
       "model_id": "10a3f4b4452a426ebef39815c10ce6dc",
       "version_major": 2,
       "version_minor": 0
      },
      "text/plain": [
       "Map:   0%|          | 0/8131302 [00:00<?, ? examples/s]"
      ]
     },
     "metadata": {},
     "output_type": "display_data"
    },
    {
     "name": "stdout",
     "output_type": "stream",
     "text": [
      "ner_dataset[0]={'uuid': 'c33bcc3e-09aa-4587-a0a0-db653c4294c6', 'article_title': 'STS-125', 'article_pageid': 5853545, 'article_qid': 217546, 'section_heading': 'Mission payload', 'section_level': 0, 'paragraph_text': 'The mission added two new instruments to Hubble. The first instrument, the Cosmic Origins Spectrograph, is now the most sensitive ultraviolet spectrograph installed on the telescope. Its far-UV channel is 30 times more sensitive than previous instruments and the near-UV is twice as sensitive. The second instrument, the Wide Field Camera 3, is a panchromatic wide-field camera that can record a wide range of wavelengths, including infrared, visible, and ultraviolet light. Atlantis also carried the Soft-Capture Mechanism, which was installed onto the telescope. This will enable a spacecraft to be sent to the telescope to assist in its safe de-orbit at the end of its life. It is a circular mechanism containing structures and targets to aid docking.', 'paragraph_anchors': [{'start': 75, 'end': 102, 'qid': 844316, 'pageid': 8447200, 'title': 'Cosmic_Origins_Spectrograph'}, {'start': 321, 'end': 340, 'qid': 209981, 'pageid': 11588713, 'title': 'Wide_Field_Camera_3'}, {'start': 347, 'end': 359, 'qid': 280995, 'pageid': 1167759, 'title': 'Panchromatic_film'}, {'start': 433, 'end': 441, 'qid': 11388, 'pageid': 15022, 'title': 'Infrared'}, {'start': 443, 'end': 450, 'qid': 76299, 'pageid': 41464, 'title': 'Visible_spectrum'}, {'start': 456, 'end': 473, 'qid': 11391, 'pageid': 71145, 'title': 'Ultraviolet_light'}, {'start': 645, 'end': 653, 'qid': 531716, 'pageid': 30956112, 'title': 'Atmospheric_reentry'}], 'text': 'The mission added two new instruments to Hubble. The first instrument, the Cosmic Origins Spectrograph, is now the most sensitive ultraviolet spectrograph installed on the telescope. Its far-UV channel is 30 times more sensitive than previous instruments and the near-UV is twice as sensitive. The second instrument, the Wide Field Camera 3, is a panchromatic wide-field camera that can record a wide range of wavelengths, including infrared, visible, and ultraviolet light. Atlantis also carried the Soft-Capture Mechanism, which was installed onto the telescope. This will enable a spacecraft to be sent to the telescope to assist in its safe de-orbit at the end of its life. It is a circular mechanism containing structures and targets to aid docking.', 'entities': []}\n"
     ]
    },
    {
     "name": "stderr",
     "output_type": "stream",
     "text": [
      "100%|███████████████████████████████████████████████████████████████████████████████████████████████████████████████████████| 17/17 [40:57<00:00, 144.56s/it]\n"
     ]
    }
   ],
   "source": [
    "test_ner = convert_dataset_to_ner_format(en_ds['test'])\n",
    "create_spacy_doc_bin_files(dataset=test_ner, file_name='test', output_dir='./test', language='xx')"
   ]
  },
  {
   "cell_type": "code",
   "execution_count": 29,
   "id": "72092c24-0109-4da3-bccd-f2e578b75ff8",
   "metadata": {},
   "outputs": [
    {
     "data": {
      "application/vnd.jupyter.widget-view+json": {
       "model_id": "78dc261619ac47b69a008f8aac98ddec",
       "version_major": 2,
       "version_minor": 0
      },
      "text/plain": [
       "Map:   0%|          | 0/4516442 [00:00<?, ? examples/s]"
      ]
     },
     "metadata": {},
     "output_type": "display_data"
    },
    {
     "name": "stdout",
     "output_type": "stream",
     "text": [
      "ner_dataset[0]={'uuid': '4604bf13-70c8-4690-a3b3-b8ec0530080c', 'article_title': 'Tree_hole', 'article_pageid': 3689974, 'article_qid': 7837581, 'section_heading': None, 'section_level': 0, 'paragraph_text': 'Tree hole may refer to:', 'paragraph_anchors': [], 'text': 'Tree hole may refer to:', 'entities': []}\n"
     ]
    },
    {
     "name": "stderr",
     "output_type": "stream",
     "text": [
      "100%|███████████████████████████████████████████████████████████████████████████████████████████████████████████████████████| 10/10 [22:48<00:00, 136.84s/it]\n"
     ]
    }
   ],
   "source": [
    "valid_ner = convert_dataset_to_ner_format(en_ds['validation'])\n",
    "create_spacy_doc_bin_files(dataset=valid_ner, file_name='validation', output_dir='./validation', language='xx')"
   ]
  },
  {
   "cell_type": "markdown",
   "id": "49b23c00-6424-46a7-ab1b-79d035f5470a",
   "metadata": {},
   "source": [
    "## Training"
   ]
  },
  {
   "cell_type": "code",
   "execution_count": null,
   "id": "6b4d249b-b5e6-4949-be67-30d3a040e241",
   "metadata": {},
   "outputs": [
    {
     "name": "stderr",
     "output_type": "stream",
     "text": [
      "/home/viktor/jupyter/lib/python3.12/site-packages/transformers/utils/generic.py:441: FutureWarning: `torch.utils._pytree._register_pytree_node` is deprecated. Please use `torch.utils._pytree.register_pytree_node` instead.\n",
      "  _torch_pytree._register_pytree_node(\n",
      "/home/viktor/jupyter/lib/python3.12/site-packages/transformers/utils/generic.py:309: FutureWarning: `torch.utils._pytree._register_pytree_node` is deprecated. Please use `torch.utils._pytree.register_pytree_node` instead.\n",
      "  _torch_pytree._register_pytree_node(\n",
      "/home/viktor/jupyter/lib/python3.12/site-packages/huggingface_hub/file_download.py:797: FutureWarning: `resume_download` is deprecated and will be removed in version 1.0.0. Downloads always resume when possible. If you want to force a new download, use `force_download=True`.\n",
      "  warnings.warn(\n"
     ]
    },
    {
     "name": "stdout",
     "output_type": "stream",
     "text": [
      "\u001b[1m\n",
      "============================ Data file validation ============================\u001b[0m\n"
     ]
    },
    {
     "name": "stderr",
     "output_type": "stream",
     "text": [
      "/home/viktor/jupyter/lib/python3.12/site-packages/transformers/utils/generic.py:309: FutureWarning: `torch.utils._pytree._register_pytree_node` is deprecated. Please use `torch.utils._pytree.register_pytree_node` instead.\n",
      "  _torch_pytree._register_pytree_node(\n",
      "/home/viktor/jupyter/lib/python3.12/site-packages/thinc/shims/pytorch.py:114: FutureWarning: `torch.cuda.amp.autocast(args...)` is deprecated. Please use `torch.amp.autocast('cuda', args...)` instead.\n",
      "  with torch.cuda.amp.autocast(self._mixed_precision):\n"
     ]
    },
    {
     "name": "stdout",
     "output_type": "stream",
     "text": [
      "\u001b[38;5;2m✔ Pipeline can be initialized with data\u001b[0m\n"
     ]
    }
   ],
   "source": [
    "%run -m spacy debug data config.cfg --paths.train ./train --paths.dev ./validation --paths.test ./test"
   ]
  },
  {
   "cell_type": "code",
   "execution_count": null,
   "id": "e9d55512-3aa5-44d0-a47c-5fc802d3081d",
   "metadata": {},
   "outputs": [],
   "source": [
    "# %run -m spacy train config.cfg --output ./ner_output --paths.train ./train --paths.dev ./validation --paths.test ./test --gpu-id 0"
   ]
  },
  {
   "cell_type": "code",
   "execution_count": null,
   "id": "d98b2e8a-bcfe-491e-9943-eefc4403b198",
   "metadata": {
    "scrolled": true
   },
   "outputs": [
    {
     "name": "stdout",
     "output_type": "stream",
     "text": [
      "13.3.0\n",
      "1\n"
     ]
    },
    {
     "name": "stderr",
     "output_type": "stream",
     "text": [
      "/home/viktor/jupyter/lib/python3.12/site-packages/transformers/utils/generic.py:441: FutureWarning: `torch.utils._pytree._register_pytree_node` is deprecated. Please use `torch.utils._pytree.register_pytree_node` instead.\n",
      "  _torch_pytree._register_pytree_node(\n"
     ]
    },
    {
     "name": "stdout",
     "output_type": "stream",
     "text": [
      "\u001b[38;5;4mℹ Saving to output directory: ner_output\u001b[0m\n",
      "\u001b[38;5;4mℹ Using GPU: 0\u001b[0m\n",
      "\u001b[1m\n",
      "=========================== Initializing pipeline ===========================\u001b[0m\n"
     ]
    },
    {
     "name": "stderr",
     "output_type": "stream",
     "text": [
      "/home/viktor/jupyter/lib/python3.12/site-packages/transformers/utils/generic.py:309: FutureWarning: `torch.utils._pytree._register_pytree_node` is deprecated. Please use `torch.utils._pytree.register_pytree_node` instead.\n",
      "  _torch_pytree._register_pytree_node(\n",
      "/home/viktor/jupyter/lib/python3.12/site-packages/huggingface_hub/file_download.py:797: FutureWarning: `resume_download` is deprecated and will be removed in version 1.0.0. Downloads always resume when possible. If you want to force a new download, use `force_download=True`.\n",
      "  warnings.warn(\n",
      "/home/viktor/jupyter/lib/python3.12/site-packages/transformers/utils/generic.py:309: FutureWarning: `torch.utils._pytree._register_pytree_node` is deprecated. Please use `torch.utils._pytree.register_pytree_node` instead.\n",
      "  _torch_pytree._register_pytree_node(\n",
      "/home/viktor/jupyter/lib/python3.12/site-packages/thinc/shims/pytorch.py:114: FutureWarning: `torch.cuda.amp.autocast(args...)` is deprecated. Please use `torch.amp.autocast('cuda', args...)` instead.\n",
      "  with torch.cuda.amp.autocast(self._mixed_precision):\n"
     ]
    },
    {
     "name": "stdout",
     "output_type": "stream",
     "text": [
      "\u001b[38;5;2m✔ Initialized pipeline\u001b[0m\n",
      "\u001b[1m\n",
      "============================= Training pipeline =============================\u001b[0m\n",
      "\u001b[38;5;4mℹ Pipeline: ['transformer', 'ner']\u001b[0m\n",
      "\u001b[38;5;4mℹ Initial learn rate: 0.0\u001b[0m\n",
      "E    #       LOSS TRANS...  LOSS NER  ENTS_F  ENTS_P  ENTS_R  SCORE \n",
      "---  ------  -------------  --------  ------  ------  ------  ------\n"
     ]
    }
   ],
   "source": [
    "import cupy\n",
    "print(cupy.__version__)\n",
    "\n",
    "# Check if GPU is available\n",
    "print(cupy.cuda.runtime.getDeviceCount())\n",
    "\n",
    "%run -m spacy train config.cfg --output ./ner_output --paths.train ./train --paths.dev ./validation --paths.test ./test --gpu-id 0"
   ]
  },
  {
   "cell_type": "markdown",
   "id": "148c1e3f-44f6-4ceb-bdf0-abab2dd6d724",
   "metadata": {},
   "source": [
    "# Using Model"
   ]
  },
  {
   "cell_type": "code",
   "execution_count": null,
   "id": "8be57f7a-24bb-42b4-b275-78f975f1a9ce",
   "metadata": {},
   "outputs": [],
   "source": [
    "model_trained = spacy.load(Path(\"ner_output/model-last\"))"
   ]
  },
  {
   "cell_type": "code",
   "execution_count": null,
   "id": "e4872fcb-1f9e-4c1e-b38b-175d76ff349b",
   "metadata": {},
   "outputs": [],
   "source": [
    "visualize_entities(en_text, model_trained)"
   ]
  },
  {
   "cell_type": "code",
   "execution_count": null,
   "id": "a1dc0a18-f31a-4318-9ef7-b71fded89e13",
   "metadata": {},
   "outputs": [],
   "source": [
    "for text, _ in test_ner[0:5]:\n",
    "    doc = model_trained(text)\n",
    "    print(\"\\nText: \", text)\n",
    "    print('Entities: ', [(ent.text, ent.label_) for ent in doc.ents])"
   ]
  },
  {
   "cell_type": "code",
   "execution_count": null,
   "id": "5c7cf3a5-9624-456e-b6b9-8aca97c3ba31",
   "metadata": {},
   "outputs": [],
   "source": []
  }
 ],
 "metadata": {
  "kernelspec": {
   "display_name": "Python 3 (ipykernel)",
   "language": "python",
   "name": "python3"
  },
  "language_info": {
   "codemirror_mode": {
    "name": "ipython",
    "version": 3
   },
   "file_extension": ".py",
   "mimetype": "text/x-python",
   "name": "python",
   "nbconvert_exporter": "python",
   "pygments_lexer": "ipython3",
   "version": "3.12.3"
  }
 },
 "nbformat": 4,
 "nbformat_minor": 5
}
